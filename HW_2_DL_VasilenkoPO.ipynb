{
 "cells": [
  {
   "cell_type": "markdown",
   "metadata": {
    "id": "w35Q6hOIy4sk"
   },
   "source": [
    "# Глубинное обучение 1 / Введение в глубинное обучение, ФКН ВШЭ\n",
    "\n",
    "## Домашнее задание 2: сверточный классификатор.\n",
    "\n",
    "### Общая информация\n",
    "### Оценивание и штрафы\n",
    "\n",
    "Максимально допустимая оценка за работу — 10 баллов. Сдавать задание после указанного срока сдачи нельзя.\n",
    "\n",
    "Задание выполняется самостоятельно. «Похожие» решения считаются плагиатом и все задействованные студенты (в том числе те, у кого списали) не могут получить за него больше 0 баллов. Если вы нашли решение какого-то из заданий (или его часть) в открытом источнике, необходимо указать ссылку на этот источник в отдельном блоке в конце вашей работы (скорее всего вы будете не единственным, кто это нашел, поэтому чтобы исключить подозрение в плагиате, необходима ссылка на источник).\n",
    "\n",
    "Неэффективная реализация кода может негативно отразиться на оценке. Также оценка может быть снижена за плохо читаемый код и плохо оформленные графики. Все ответы должны сопровождаться кодом или комментариями о том, как они были получены.\n",
    "\n",
    "### О задании\n",
    "\n",
    "В этом задании вам предстоит познакомиться со сверточными сетями и их обучением для классификации изображений с использованием библиотеки PyTorch.\n"
   ]
  },
  {
   "cell_type": "code",
   "metadata": {
    "id": "SaACifdX2QOo",
    "ExecuteTime": {
     "end_time": "2024-05-26T16:37:23.130708Z",
     "start_time": "2024-05-26T16:37:19.687721Z"
    }
   },
   "source": [
    "import torch\n",
    "import torch.nn as nn\n",
    "import torch.nn.functional as F\n",
    "import torch.optim as optim\n",
    "import torchvision\n",
    "import torchvision.transforms as transforms\n",
    "\n",
    "import matplotlib.pyplot as plt\n",
    "import numpy as np\n",
    "\n",
    "from sklearn.model_selection import train_test_split"
   ],
   "outputs": [],
   "execution_count": 1
  },
  {
   "cell_type": "markdown",
   "metadata": {
    "id": "TIXaUYM-0JFl"
   },
   "source": [
    "## 0. Загрузка данных\n",
    "\n",
    "Работать мы будем с набором данных [CIFAR10](https://www.cs.toronto.edu/~kriz/cifar.html). CIFAR10 представляет собой набор изображений 32х32 пикселя, разделенных на 10 классов.\n",
    "\n",
    "![title](https://pytorch.org/tutorials/_images/cifar10.png)\n",
    "\n",
    "\n"
   ]
  },
  {
   "cell_type": "markdown",
   "metadata": {
    "id": "g-0EEjl_10vB"
   },
   "source": [
    "Набор данных уже определен в <code>torchvision.datasets</code>, так что возьмем его оттуда. \n",
    "\n"
   ]
  },
  {
   "cell_type": "code",
   "metadata": {
    "id": "Cbwe92dT3aPZ",
    "ExecuteTime": {
     "end_time": "2024-05-26T16:37:23.137212Z",
     "start_time": "2024-05-26T16:37:23.131702Z"
    }
   },
   "source": [
    "def get_cifar10_data(batch_size, transform_train):\n",
    "    torch.manual_seed(0)\n",
    "    np.random.seed(0)\n",
    "\n",
    "    transform_test = transforms.Compose(\n",
    "        [transforms.ToTensor(),\n",
    "         # Переводим цвета пикселей в отрезок [-1, 1]\n",
    "         transforms.Normalize((0.5, 0.5, 0.5), (0.5, 0.5, 0.5))]\n",
    "    )\n",
    "    \n",
    "    # Загружаем данные\n",
    "    trainvalset = torchvision.datasets.CIFAR10(root='./data', train=True,\n",
    "                                               download=True, transform=transform_train)\n",
    "    testset = torchvision.datasets.CIFAR10(root='./data', train=False,\n",
    "                                           download=True, transform=transform_test)\n",
    "    \n",
    "    # В датасете определено разбиение только на train и test,\n",
    "    # так что валидацию дополнительно выделяем из обучающей выборки\n",
    "    train_idx, valid_idx = train_test_split(np.arange(len(trainvalset)), test_size=0.3, \n",
    "                                            shuffle=True, random_state=0)\n",
    "    trainset = torch.utils.data.Subset(trainvalset, train_idx)\n",
    "    valset = torch.utils.data.Subset(trainvalset, valid_idx)\n",
    "\n",
    "    train_loader = torch.utils.data.DataLoader(trainset, batch_size=batch_size,\n",
    "                                               shuffle=True, num_workers=2)\n",
    "    val_loader = torch.utils.data.DataLoader(valset, batch_size=batch_size,\n",
    "                                             shuffle=False, num_workers=2)\n",
    "    test_loader = torch.utils.data.DataLoader(testset, batch_size=batch_size,\n",
    "                                              shuffle=False, num_workers=2)\n",
    "    \n",
    "    return train_loader, val_loader, test_loader\n",
    "    "
   ],
   "outputs": [],
   "execution_count": 2
  },
  {
   "cell_type": "code",
   "metadata": {
    "colab": {
     "base_uri": "https://localhost:8080/",
     "height": 101,
     "referenced_widgets": [
      "aa9da821ba0c42b5b051355e50e691f0",
      "95c5696493db48738dbdc9940acec1d8",
      "fe515a1f743f49d0b251b43919d52a8e",
      "f4f339c969fd4e21bc683ecb2567897b",
      "17b2be81159e41f1a5c6bb966516572e",
      "22bb21a6c57a413fb7374efe31349e6e",
      "18b20091dbf64b129824a8fb3266e3c0",
      "9bad0d6a00c14229b0d776a2cfe15090",
      "0fee9f5b7bdb4129a71ef0cfe9d3b1fa",
      "cd991379661b4b4ab405bf66f75c6834",
      "7d238166caf64537ad9aa2040dcdc1ec"
     ]
    },
    "id": "2G2rLnN5y6Jj",
    "outputId": "542c91e6-44f6-4e26-f1e8-5df3b83fd044",
    "ExecuteTime": {
     "end_time": "2024-05-26T16:37:24.841993Z",
     "start_time": "2024-05-26T16:37:23.137212Z"
    }
   },
   "source": [
    "transform = transforms.Compose(\n",
    "        [transforms.ToTensor(),\n",
    "         transforms.Normalize((0.5, 0.5, 0.5), (0.5, 0.5, 0.5))]\n",
    ")\n",
    "\n",
    "train_loader, val_loader, test_loader = get_cifar10_data(batch_size=64, \n",
    "                                                         transform_train=transform)"
   ],
   "outputs": [
    {
     "name": "stdout",
     "output_type": "stream",
     "text": [
      "Files already downloaded and verified\n",
      "Files already downloaded and verified\n"
     ]
    }
   ],
   "execution_count": 3
  },
  {
   "cell_type": "markdown",
   "metadata": {
    "id": "-82HWgXs77W1"
   },
   "source": [
    "Посмотрим на изображения:"
   ]
  },
  {
   "cell_type": "code",
   "metadata": {
    "colab": {
     "base_uri": "https://localhost:8080/",
     "height": 155
    },
    "id": "ACnwaC5iy6L2",
    "outputId": "fd2fc631-ea7b-45f2-9728-eb1c5f9e683c",
    "ExecuteTime": {
     "end_time": "2024-05-26T16:37:32.207948Z",
     "start_time": "2024-05-26T16:37:24.842986Z"
    }
   },
   "source": [
    "def imshow(img):\n",
    "    img = img / 2 + 0.5    \n",
    "    npimg = img.numpy()\n",
    "    plt.imshow(np.transpose(npimg, (1, 2, 0)))\n",
    "    plt.show()\n",
    "\n",
    "\n",
    "dataiter = iter(train_loader)\n",
    "images, labels = next(dataiter)\n",
    "\n",
    "imshow(torchvision.utils.make_grid(images[:4]))\n",
    "\n",
    "classes = ('plane', 'car', 'bird', 'cat',\n",
    "           'deer', 'dog', 'frog', 'horse', 'ship', 'truck')\n",
    "print(*[classes[labels[i]] for i in range(4)])"
   ],
   "outputs": [
    {
     "data": {
      "text/plain": [
       "<Figure size 640x480 with 1 Axes>"
      ],
      "image/png": "[encoded data removed]"
     },
     "metadata": {},
     "output_type": "display_data"
    },
    {
     "name": "stdout",
     "output_type": "stream",
     "text": [
      "ship frog horse horse\n"
     ]
    }
   ],
   "execution_count": 4
  },
  {
   "cell_type": "markdown",
   "metadata": {
    "id": "KFDilng29YZ_"
   },
   "source": [
    "## 1. Задание сверточной сети (3 балла)"
   ]
  },
  {
   "cell_type": "markdown",
   "metadata": {
    "id": "OX7Ul8YbYdQR"
   },
   "source": [
    "Теперь нам нужно задать сверточную нейронную сеть, которую мы будем обучать классифицировать изображения.\n",
    "\n",
    "Используем сеть, основанную на одном блоке архитектуры ResNet.\n",
    "\n",
    "<img src=\"https://i.ibb.co/2hg962h/basic-block.png\" width=\"500\"/>\n",
    "\n",
    "__Указания:__\n",
    "\n",
    "- Все сверточные слои должны иметь 32 выходных канала, а также не должны изменять ширину и высоту изображения.\n",
    "- Выход блока сократите до размерности 32х4х4, применив average pooling.\n",
    "- Для получения итоговых логитов, распрямите выход пулинга в вектор из 512 элементов, а затем пропустите его через линейный слой."
   ]
  },
  {
   "cell_type": "markdown",
   "metadata": {
    "id": "sbyIylT9O9Dr"
   },
   "source": [
    "**Задание 1.1 (3 балла).**\n",
    "\n",
    "Определите архитектуру сети соответственно схеме и указаниям выше.\n",
    "\n",
    "Ключевые слова: <code>Conv2d</code>, <code>BatchNorm2d</code>, <code>AvgPool2d</code>."
   ]
  },
  {
   "metadata": {
    "ExecuteTime": {
     "end_time": "2024-05-26T16:37:32.215938Z",
     "start_time": "2024-05-26T16:37:32.207948Z"
    }
   },
   "cell_type": "code",
   "source": [
    "class BasicBlockNet(nn.Module):\n",
    "    def __init__(self, num_classes=10):\n",
    "        super(BasicBlockNet, self).__init__()\n",
    "        \n",
    "        self.conv1 = nn.Conv2d(3, 32, kernel_size=3, stride=1, padding=1, bias=False)\n",
    "        self.bn1 = nn.BatchNorm2d(32)\n",
    "        self.relu = nn.ReLU(inplace=True)\n",
    "        self.conv2 = nn.Conv2d(32, 32, kernel_size=3, stride=1, padding=1, bias=False)\n",
    "        self.bn2 = nn.BatchNorm2d(32)\n",
    "        self.shortcut = nn.Sequential()\n",
    "        \n",
    "        if 1 != 1 or 3 != 32:\n",
    "            self.shortcut = nn.Sequential(\n",
    "                nn.Conv2d(3, 32, kernel_size=1, stride=1, bias=False),\n",
    "                nn.BatchNorm2d(32)\n",
    "            )\n",
    "\n",
    "        self.avgpool = nn.AdaptiveAvgPool2d((4, 4))\n",
    "        \n",
    "        self.fc = nn.Linear(32 * 4 * 4, num_classes)\n",
    "\n",
    "    def forward(self, x):\n",
    "        out = self.relu(self.bn1(self.conv1(x)))\n",
    "        out = self.bn2(self.conv2(out))\n",
    "        out += self.shortcut(x)\n",
    "        out = self.relu(out)\n",
    "        out = self.avgpool(out)\n",
    "        out = out.view(out.size(0), -1)\n",
    "        out = self.fc(out)\n",
    "        \n",
    "        return out"
   ],
   "outputs": [],
   "execution_count": 5
  },
  {
   "cell_type": "code",
   "metadata": {
    "id": "FI4BQg7Ky6Pw",
    "ExecuteTime": {
     "end_time": "2024-05-26T16:37:32.222985Z",
     "start_time": "2024-05-26T16:37:32.216938Z"
    }
   },
   "source": [
    "net = BasicBlockNet()\n",
    "net"
   ],
   "outputs": [
    {
     "data": {
      "text/plain": [
       "BasicBlockNet(\n",
       "  (conv1): Conv2d(3, 32, kernel_size=(3, 3), stride=(1, 1), padding=(1, 1), bias=False)\n",
       "  (bn1): BatchNorm2d(32, eps=1e-05, momentum=0.1, affine=True, track_running_stats=True)\n",
       "  (relu): ReLU(inplace=True)\n",
       "  (conv2): Conv2d(32, 32, kernel_size=(3, 3), stride=(1, 1), padding=(1, 1), bias=False)\n",
       "  (bn2): BatchNorm2d(32, eps=1e-05, momentum=0.1, affine=True, track_running_stats=True)\n",
       "  (shortcut): Sequential(\n",
       "    (0): Conv2d(3, 32, kernel_size=(1, 1), stride=(1, 1), bias=False)\n",
       "    (1): BatchNorm2d(32, eps=1e-05, momentum=0.1, affine=True, track_running_stats=True)\n",
       "  )\n",
       "  (avgpool): AdaptiveAvgPool2d(output_size=(4, 4))\n",
       "  (fc): Linear(in_features=512, out_features=10, bias=True)\n",
       ")"
      ]
     },
     "execution_count": 6,
     "metadata": {},
     "output_type": "execute_result"
    }
   ],
   "execution_count": 6
  },
  {
   "cell_type": "markdown",
   "metadata": {
    "id": "igPoGZEub8d3"
   },
   "source": [
    "Проверим, что выход сети имеет корректную размерность:"
   ]
  },
  {
   "cell_type": "code",
   "metadata": {
    "id": "cCIzFUpJ_Agw",
    "ExecuteTime": {
     "end_time": "2024-05-26T16:37:32.236274Z",
     "start_time": "2024-05-26T16:37:32.223979Z"
    }
   },
   "source": [
    "assert net(torch.zeros((10, 3, 32, 32))).shape == (10, 10)"
   ],
   "outputs": [],
   "execution_count": 7
  },
  {
   "cell_type": "markdown",
   "metadata": {
    "id": "08osX622cDGz"
   },
   "source": [
    "Чтобы проводить вычисления на GPU, в PyTorch необходимо руками перекладывать объекты, с которыми вы хотите проводить вычисления, на графический ускоритель. Это делается следующим образрм:"
   ]
  },
  {
   "cell_type": "code",
   "metadata": {
    "id": "56hDOMCFcDZX",
    "ExecuteTime": {
     "end_time": "2024-05-26T16:37:32.240284Z",
     "start_time": "2024-05-26T16:37:32.237270Z"
    }
   },
   "source": [
    "device = torch.device('cuda:0' if torch.cuda.is_available() else 'cpu')\n",
    "print(device)"
   ],
   "outputs": [
    {
     "name": "stdout",
     "output_type": "stream",
     "text": [
      "cuda:0\n"
     ]
    }
   ],
   "execution_count": 8
  },
  {
   "cell_type": "code",
   "metadata": {
    "id": "ohnDWbp0qbtC",
    "ExecuteTime": {
     "end_time": "2024-05-26T16:37:32.356756Z",
     "start_time": "2024-05-26T16:37:32.241271Z"
    }
   },
   "source": [
    "net = net.to(device)"
   ],
   "outputs": [],
   "execution_count": 9
  },
  {
   "cell_type": "markdown",
   "metadata": {
    "id": "H_bOlTVUp5QF"
   },
   "source": [
    "Подключение GPU в google.colab:\n",
    "\n",
    "**Среда выполнения** -> **Сменить среду выполнения** -> **Аппаратный ускоритель** -> **GPU**"
   ]
  },
  {
   "cell_type": "markdown",
   "metadata": {
    "id": "AGi6XX_7_Bgg"
   },
   "source": [
    "## 2. Обучение и тестирование модели (3 балла)"
   ]
  },
  {
   "cell_type": "markdown",
   "metadata": {
    "id": "0agj_MQoO9Ds"
   },
   "source": [
    "**Задание 2.1 (2 балла).** Переходим к обучению модели. Заполните пропуски в функциях <code>test</code> и <code>train_epoch</code>. В качестве функции потерь будем использовать [кросс-энтропию](https://pytorch.org/docs/stable/generated/torch.nn.functional.cross_entropy.html), а в качестве метрики качества accuracy."
   ]
  },
  {
   "cell_type": "code",
   "metadata": {
    "id": "g8gsPPRIevDS",
    "ExecuteTime": {
     "end_time": "2024-05-26T16:37:32.367226Z",
     "start_time": "2024-05-26T16:37:32.358742Z"
    }
   },
   "source": [
    "import torch\n",
    "import numpy as np\n",
    "\n",
    "def test(model, loader):\n",
    "    loss_log = []\n",
    "    acc_log = []\n",
    "    model.eval()\n",
    "    \n",
    "    with torch.no_grad():\n",
    "        for data, target in loader:\n",
    "            data, target = data.cuda(), target.cuda()\n",
    "            \n",
    "            output = model(data)\n",
    "            \n",
    "            loss = torch.nn.functional.cross_entropy(output, target)\n",
    "            loss_log.append(loss.item())\n",
    "            \n",
    "            pred = output.argmax(dim=1, keepdim=True)\n",
    "            correct = pred.eq(target.view_as(pred)).sum().item()\n",
    "            acc = correct / len(target)\n",
    "            acc_log.append(acc)\n",
    "    \n",
    "    return np.mean(loss_log), np.mean(acc_log)\n",
    "\n",
    "def train_epoch(model, optimizer, train_loader):\n",
    "    loss_log = []\n",
    "    acc_log = []\n",
    "    model.train()\n",
    "    \n",
    "    for data, target in train_loader:\n",
    "        data, target = data.cuda(), target.cuda()\n",
    "        \n",
    "        optimizer.zero_grad()\n",
    "        \n",
    "        output = model(data)\n",
    "        \n",
    "        loss = torch.nn.functional.cross_entropy(output, target)\n",
    "        loss.backward()\n",
    "        optimizer.step()\n",
    "        \n",
    "        loss_log.append(loss.item())\n",
    "        \n",
    "        pred = output.argmax(dim=1, keepdim=True)\n",
    "        correct = pred.eq(target.view_as(pred)).sum().item()\n",
    "        acc = correct / len(target)\n",
    "        acc_log.append(acc)\n",
    "    \n",
    "    return loss_log, acc_log\n",
    "\n",
    "def train(model, optimizer, n_epochs, train_loader, val_loader, scheduler=None):\n",
    "    train_loss_log, train_acc_log, val_loss_log, val_acc_log = [], [], [], []\n",
    "\n",
    "    for epoch in range(n_epochs):\n",
    "        train_loss, train_acc = train_epoch(model, optimizer, train_loader)\n",
    "        val_loss, val_acc = test(model, val_loader)\n",
    "        \n",
    "        train_loss_log.extend(train_loss)\n",
    "        train_acc_log.extend(train_acc)\n",
    "        \n",
    "        val_loss_log.append(val_loss)\n",
    "        val_acc_log.append(val_acc)\n",
    "\n",
    "        print(f\"Epoch {epoch + 1}\")\n",
    "        print(f\" train loss: {np.mean(train_loss)}, train acc: {np.mean(train_acc)}\")\n",
    "        print(f\" val loss: {val_loss}, val acc: {val_acc}\\n\")\n",
    "        \n",
    "        if scheduler is not None:\n",
    "            scheduler.step()\n",
    "\n",
    "    return train_loss_log, train_acc_log, val_loss_log, val_acc_log\n"
   ],
   "outputs": [],
   "execution_count": 10
  },
  {
   "cell_type": "markdown",
   "metadata": {
    "id": "iSOqk_CAO9Dt"
   },
   "source": [
    "Запустим обучение модели. В качестве оптимизатора будем использовать стохастический градиентный спуск, который является де-факто стандартом в задачах компьютерного зрения (наравне с <code>Adam</code>).\n",
    "\n",
    "__Замечание:__ Для достижения наилучшего качества в нашем случае потребуется обучать модель несколько сотен эпох. Однако в целях экономии вашего времени и сил, во всех экспериментах мы ограничимся 20 эпохами."
   ]
  },
  {
   "cell_type": "code",
   "metadata": {
    "id": "MKZBGhuAgMDu",
    "scrolled": true,
    "ExecuteTime": {
     "end_time": "2024-05-26T16:20:32.688628Z",
     "start_time": "2024-05-26T16:14:10.798692Z"
    }
   },
   "source": [
    "optimizer = optim.SGD(net.parameters(), lr=0.1, momentum=0.9)\n",
    "train_loss_log, train_acc_log, val_loss_log, val_acc_log = train(net, optimizer, 20, train_loader, val_loader)"
   ],
   "outputs": [
    {
     "name": "stdout",
     "output_type": "stream",
     "text": [
      "Epoch 1\n",
      " train loss: 1.5002279876572995, train acc: 0.46846027030556286\n",
      " val loss: 1.284302795186956, val acc: 0.5451241134751774\n",
      "\n",
      "Epoch 2\n",
      " train loss: 1.1789886410972972, train acc: 0.5873269783233219\n",
      " val loss: 1.0671192856545144, val acc: 0.6303191489361702\n",
      "\n",
      "Epoch 3\n",
      " train loss: 1.0496896795206576, train acc: 0.6363443457821885\n",
      " val loss: 1.0036632454141658, val acc: 0.6477836879432625\n",
      "\n",
      "Epoch 4\n",
      " train loss: 0.9988344189671755, train acc: 0.652618177069731\n",
      " val loss: 0.9925101526240085, val acc: 0.6590868794326242\n",
      "\n",
      "Epoch 5\n",
      " train loss: 0.954085125129881, train acc: 0.6721565682945939\n",
      " val loss: 0.9589607398560707, val acc: 0.6636081560283689\n",
      "\n",
      "Epoch 6\n",
      " train loss: 0.9292885741760352, train acc: 0.6776002219900757\n",
      " val loss: 0.9930884891367974, val acc: 0.6545212765957447\n",
      "\n",
      "Epoch 7\n",
      " train loss: 0.904917250385668, train acc: 0.6863002742230347\n",
      " val loss: 0.9828764550229336, val acc: 0.6674423758865248\n",
      "\n",
      "Epoch 8\n",
      " train loss: 0.887760261621946, train acc: 0.691564377121964\n",
      " val loss: 0.9132539777045554, val acc: 0.6890735815602838\n",
      "\n",
      "Epoch 9\n",
      " train loss: 0.8641704488171084, train acc: 0.7021170671193523\n",
      " val loss: 1.0055087287375268, val acc: 0.6662898936170213\n",
      "\n",
      "Epoch 10\n",
      " train loss: 0.8444929365919974, train acc: 0.7084339905980674\n",
      " val loss: 1.028735276993285, val acc: 0.656139184397163\n",
      "\n",
      "Epoch 11\n",
      " train loss: 0.8371613472972536, train acc: 0.7090175306868634\n",
      " val loss: 0.9479307108737053, val acc: 0.6703900709219859\n",
      "\n",
      "Epoch 12\n",
      " train loss: 0.8278645567418889, train acc: 0.7124698028205797\n",
      " val loss: 0.9655591835366919, val acc: 0.6706117021276595\n",
      "\n",
      "Epoch 13\n",
      " train loss: 0.81703394956519, train acc: 0.716823909636981\n",
      " val loss: 0.9374029436009995, val acc: 0.6784352836879434\n",
      "\n",
      "Epoch 14\n",
      " train loss: 0.8004490750581299, train acc: 0.7258218529642204\n",
      " val loss: 0.9085177680279346, val acc: 0.687145390070922\n",
      "\n",
      "Epoch 15\n",
      " train loss: 0.7930001716182262, train acc: 0.726458442151998\n",
      " val loss: 0.9313827608494049, val acc: 0.6872340425531915\n",
      "\n",
      "Epoch 16\n",
      " train loss: 0.7812015291650727, train acc: 0.7295842582919823\n",
      " val loss: 0.87479219081554, val acc: 0.7024157801418439\n",
      "\n",
      "Epoch 17\n",
      " train loss: 0.7725668225907321, train acc: 0.7309716962653435\n",
      " val loss: 0.8996758701953482, val acc: 0.6918882978723404\n",
      "\n",
      "Epoch 18\n",
      " train loss: 0.7656006832663276, train acc: 0.7342484983024288\n",
      " val loss: 0.9471781091487154, val acc: 0.692331560283688\n",
      "\n",
      "Epoch 19\n",
      " train loss: 0.755209127008588, train acc: 0.73650104465918\n",
      " val loss: 0.887362940387523, val acc: 0.7046320921985817\n",
      "\n",
      "Epoch 20\n",
      " train loss: 0.7462883652128293, train acc: 0.7417610668581874\n",
      " val loss: 0.9651350051798719, val acc: 0.6762854609929078\n",
      "\n"
     ]
    }
   ],
   "execution_count": 11
  },
  {
   "cell_type": "markdown",
   "metadata": {
    "id": "gUb1jQW8O9Dt"
   },
   "source": [
    "Посчитайте точность на тестовой выборке:"
   ]
  },
  {
   "cell_type": "code",
   "metadata": {
    "id": "Jyuc55B9_Amc",
    "ExecuteTime": {
     "end_time": "2024-05-26T16:20:39.398197Z",
     "start_time": "2024-05-26T16:20:32.689621Z"
    }
   },
   "source": [
    "test_loss, test_acc = test(net, test_loader)\n",
    "print(f\"Test accuracy: {test_acc}\")"
   ],
   "outputs": [
    {
     "name": "stdout",
     "output_type": "stream",
     "text": [
      "Test accuracy: 0.6786425159235668\n"
     ]
    }
   ],
   "execution_count": 12
  },
  {
   "metadata": {},
   "cell_type": "markdown",
   "source": "Точность выше 67%."
  },
  {
   "cell_type": "markdown",
   "metadata": {
    "id": "zM38Q9fwO9Dt"
   },
   "source": [
    "Если вы все сделали правильно, у вас должна была получиться точность $\\ge 67\\%$."
   ]
  },
  {
   "cell_type": "markdown",
   "metadata": {
    "id": "DHFNSKcoO9Dt"
   },
   "source": [
    "**Задание 2.2 (1 балл).** Постройте графики зависимости функции потерь и точности классификации от номера шага оптимизатора. На каждом графике расположите данные и для обучающей и для валидационной выборки, итого у вас должно получиться два графика. Обратите внимание, что на обучающей выборке эти данные считаются по каждому батчу, на валидационной же они считаются по всей выборке раз в эпоху."
   ]
  },
  {
   "cell_type": "code",
   "metadata": {
    "id": "LzIP0tGLO9Dt",
    "ExecuteTime": {
     "end_time": "2024-05-26T09:07:19.409528Z",
     "start_time": "2024-05-26T09:07:19.050647Z"
    }
   },
   "source": [
    "plt.figure(figsize=(12, 5))\n",
    "\n",
    "plt.subplot(1, 2, 1)\n",
    "plt.plot(train_loss_log, label='Training Loss')\n",
    "plt.plot([i * len(train_loader) for i in range(len(val_loss_log))], val_loss_log, label='Validation Loss')\n",
    "plt.xlabel('Step')\n",
    "plt.ylabel('Loss')\n",
    "plt.legend()\n",
    "plt.title('Loss')\n",
    "\n",
    "plt.subplot(1, 2, 2)\n",
    "plt.plot(train_acc_log, label='Training Accuracy')\n",
    "plt.plot([i * len(train_loader) for i in range(len(val_acc_log))], val_acc_log, label='Validation Accuracy')\n",
    "plt.xlabel('Step')\n",
    "plt.ylabel('Accuracy')\n",
    "plt.legend()\n",
    "plt.title('Accuracy')\n",
    "\n",
    "plt.show()"
   ],
   "outputs": [
    {
     "data": {
      "text/plain": [
       "<Figure size 1200x500 with 2 Axes>"
      ],
      "image/png": "[encoded data removed]"
     },
     "metadata": {},
     "output_type": "display_data"
    }
   ],
   "execution_count": 46
  },
  {
   "cell_type": "markdown",
   "metadata": {
    "id": "_ttOJPj-O9Dt"
   },
   "source": [
    "## 3. Расписание длины шага (2 балла)"
   ]
  },
  {
   "cell_type": "markdown",
   "metadata": {
    "id": "qiz3JstuO9Dt"
   },
   "source": [
    "С курса \"Машинное обучение 1\" вы уже должны знать, что сходимость стохастического градиентного спуска мы можем теоретически гарантировать только если будем определенным образом со временем уменьшать длину шага. На практике при обучении нейронных сетей такая техника оказывается очень полезной, однако теоретически обоснованными способами уменьшения длины шага фантазия не ограничивается.\n",
    "\n",
    "Одним из простейших способов является кусочно постоянная функция: на нескольких фиксированных эпохах уменьшаем длину шага в константу раз."
   ]
  },
  {
   "cell_type": "code",
   "metadata": {
    "id": "V2Z0OT3nO9Du",
    "ExecuteTime": {
     "end_time": "2024-05-26T09:13:35.977261Z",
     "start_time": "2024-05-26T09:07:19.409528Z"
    }
   },
   "source": [
    "net = BasicBlockNet().to(device)\n",
    "optimizer = optim.SGD(net.parameters(), lr=0.1, momentum=0.9)\n",
    "scheduler = optim.lr_scheduler.MultiStepLR(optimizer, milestones=[10, 15], gamma=0.1)\n",
    "tr_loss_log, tr_acc_log, val_loss_log, val_acc_log = train(net, optimizer, 20, train_loader, val_loader, scheduler)"
   ],
   "outputs": [
    {
     "name": "stdout",
     "output_type": "stream",
     "text": [
      "Epoch 1\n",
      " train loss: 1.4985135425379332, train acc: 0.4694641224862888\n",
      " val loss: 1.2977377003811776, val acc: 0.5406693262411347\n",
      "\n",
      "Epoch 2\n",
      " train loss: 1.2120766004435106, train acc: 0.5761907482371377\n",
      " val loss: 1.106567271212314, val acc: 0.6192819148936171\n",
      "\n",
      "Epoch 3\n",
      " train loss: 1.0714832105192014, train acc: 0.6286644685296422\n",
      " val loss: 1.1377810531474175, val acc: 0.6092863475177306\n",
      "\n",
      "Epoch 4\n",
      " train loss: 1.0067318339016582, train acc: 0.6500310133194045\n",
      " val loss: 1.0616768507247276, val acc: 0.6307624113475178\n",
      "\n",
      "Epoch 5\n",
      " train loss: 0.9613313843824746, train acc: 0.6682921454687908\n",
      " val loss: 1.0100405114762327, val acc: 0.6484485815602837\n",
      "\n",
      "Epoch 6\n",
      " train loss: 0.9300625499685242, train acc: 0.6791549686602246\n",
      " val loss: 1.0124821599493636, val acc: 0.658311170212766\n",
      "\n",
      "Epoch 7\n",
      " train loss: 0.9033379415271487, train acc: 0.686904217811439\n",
      " val loss: 0.9234008109315913, val acc: 0.6822695035460992\n",
      "\n",
      "Epoch 8\n",
      " train loss: 0.8882734506396096, train acc: 0.6911563071297989\n",
      " val loss: 0.9257145853752785, val acc: 0.6797429078014183\n",
      "\n",
      "Epoch 9\n",
      " train loss: 0.8672142835160278, train acc: 0.6983669038913555\n",
      " val loss: 0.9436586940542181, val acc: 0.6729166666666667\n",
      "\n",
      "Epoch 10\n",
      " train loss: 0.8535435132723186, train acc: 0.7061365565421781\n",
      " val loss: 0.9773788647448763, val acc: 0.6618129432624115\n",
      "\n",
      "Epoch 11\n",
      " train loss: 0.745900612590082, train acc: 0.744919528597545\n",
      " val loss: 0.829402980905898, val acc: 0.7152925531914893\n",
      "\n",
      "Epoch 12\n",
      " train loss: 0.72973252045607, train acc: 0.7507141224862889\n",
      " val loss: 0.8277109105536278, val acc: 0.7165336879432624\n",
      "\n",
      "Epoch 13\n",
      " train loss: 0.7250607019150714, train acc: 0.7519913815617655\n",
      " val loss: 0.8241722866575769, val acc: 0.7193040780141843\n",
      "\n",
      "Epoch 14\n",
      " train loss: 0.7191879451819704, train acc: 0.7544112366153043\n",
      " val loss: 0.8176561288377072, val acc: 0.7202349290780141\n",
      "\n",
      "Epoch 15\n",
      " train loss: 0.7170752703162826, train acc: 0.7556028009924262\n",
      " val loss: 0.8203552669667183, val acc: 0.7222960992907801\n",
      "\n",
      "Epoch 16\n",
      " train loss: 0.6992581228451493, train acc: 0.7599283429093758\n",
      " val loss: 0.813662236675303, val acc: 0.7214317375886524\n",
      "\n",
      "Epoch 17\n",
      " train loss: 0.6984769495466292, train acc: 0.7599120201096892\n",
      " val loss: 0.8137259181509626, val acc: 0.7225620567375886\n",
      "\n",
      "Epoch 18\n",
      " train loss: 0.697820765717156, train acc: 0.7619564507704362\n",
      " val loss: 0.8127156182806543, val acc: 0.723470744680851\n",
      "\n",
      "Epoch 19\n",
      " train loss: 0.6986889938331827, train acc: 0.762331875163228\n",
      " val loss: 0.8123005524594733, val acc: 0.7225620567375886\n",
      "\n",
      "Epoch 20\n",
      " train loss: 0.6971059058004585, train acc: 0.7623196330634631\n",
      " val loss: 0.8129698768575141, val acc: 0.722761524822695\n",
      "\n"
     ]
    }
   ],
   "execution_count": 47
  },
  {
   "cell_type": "markdown",
   "metadata": {
    "id": "5Xc76KvzO9Du"
   },
   "source": [
    "Посчитайте точность на тестовой выборке:"
   ]
  },
  {
   "cell_type": "code",
   "metadata": {
    "id": "1AjiYhKqO9Du",
    "ExecuteTime": {
     "end_time": "2024-05-26T09:13:42.961636Z",
     "start_time": "2024-05-26T09:13:35.977261Z"
    }
   },
   "source": [
    "test_loss, test_acc = test(net, test_loader)\n",
    "print(f\"Точность на тесте: {test_acc}\")"
   ],
   "outputs": [
    {
     "name": "stdout",
     "output_type": "stream",
     "text": [
      "Точность на тесте: 0.7172571656050956\n"
     ]
    }
   ],
   "execution_count": 48
  },
  {
   "cell_type": "markdown",
   "metadata": {
    "id": "yE0dgLYrO9Du"
   },
   "source": [
    "**Задание 3.0 (0.5 баллов).** Здесь может возникнуть вопрос: а что будет, если мы не будем уменьшать длину шага в процессе обучения, а сразу возьмем констатную, равную значению нашей кусочно-постоянной функции на последних эпохах, то есть $0.001$ в нашем случае. Запустите обучение и проверьте, что в таком случае мы получим худшее качество на тестовой выборке."
   ]
  },
  {
   "cell_type": "code",
   "metadata": {
    "id": "qZ2iB-LBO9Du",
    "ExecuteTime": {
     "end_time": "2024-05-26T09:19:54.761970Z",
     "start_time": "2024-05-26T09:13:42.962623Z"
    }
   },
   "source": [
    "net = BasicBlockNet().to(device)\n",
    "optimizer = optim.SGD(net.parameters(), lr=0.001, momentum=0.9)\n",
    "tr_loss_log_const_lr, tr_acc_log_const_lr, val_loss_log_const_lr, val_acc_log_const_lr = train(net, optimizer, 20, train_loader, val_loader)"
   ],
   "outputs": [
    {
     "name": "stdout",
     "output_type": "stream",
     "text": [
      "Epoch 1\n",
      " train loss: 1.7713355691167074, train acc: 0.3771831744580831\n",
      " val loss: 1.5652633631483037, val acc: 0.45467641843971635\n",
      "\n",
      "Epoch 2\n",
      " train loss: 1.4987766925769925, train acc: 0.47247975972838857\n",
      " val loss: 1.4189274158883602, val acc: 0.5007978723404255\n",
      "\n",
      "Epoch 3\n",
      " train loss: 1.3948753817207853, train acc: 0.5091611713241055\n",
      " val loss: 1.3551484701481271, val acc: 0.5200576241134752\n",
      "\n",
      "Epoch 4\n",
      " train loss: 1.3363283046638725, train acc: 0.5291647623400365\n",
      " val loss: 1.312851434565605, val acc: 0.5360150709219859\n",
      "\n",
      "Epoch 5\n",
      " train loss: 1.2940368464921466, train acc: 0.5461241512144163\n",
      " val loss: 1.260802058463401, val acc: 0.5570257092198583\n",
      "\n",
      "Epoch 6\n",
      " train loss: 1.255454088368843, train acc: 0.5586396578741186\n",
      " val loss: 1.2349219197922565, val acc: 0.5660682624113476\n",
      "\n",
      "Epoch 7\n",
      " train loss: 1.2243056395372045, train acc: 0.5692658004700967\n",
      " val loss: 1.1995776384434802, val acc: 0.5794769503546099\n",
      "\n",
      "Epoch 8\n",
      " train loss: 1.1895783545766059, train acc: 0.5829034996082528\n",
      " val loss: 1.1823056771400127, val acc: 0.5857712765957447\n",
      "\n",
      "Epoch 9\n",
      " train loss: 1.1599306649438206, train acc: 0.5945375750848785\n",
      " val loss: 1.1539658640293364, val acc: 0.5986258865248226\n",
      "\n",
      "Epoch 10\n",
      " train loss: 1.132576328744836, train acc: 0.6052004439801515\n",
      " val loss: 1.121424429213747, val acc: 0.6116356382978724\n",
      "\n",
      "Epoch 11\n",
      " train loss: 1.1015073056630722, train acc: 0.6165978388613216\n",
      " val loss: 1.1397681543167602, val acc: 0.6034131205673758\n",
      "\n",
      "Epoch 12\n",
      " train loss: 1.0733824874626872, train acc: 0.6295867067119352\n",
      " val loss: 1.064126047682255, val acc: 0.6306515957446809\n",
      "\n",
      "Epoch 13\n",
      " train loss: 1.0487168277639358, train acc: 0.6366748824758423\n",
      " val loss: 1.0564946707258833, val acc: 0.6307402482269503\n",
      "\n",
      "Epoch 14\n",
      " train loss: 1.028151378553136, train acc: 0.6405025790023505\n",
      " val loss: 1.0293566399432243, val acc: 0.6450354609929078\n",
      "\n",
      "Epoch 15\n",
      " train loss: 1.0096682143385711, train acc: 0.649757606424654\n",
      " val loss: 1.0135907249247773, val acc: 0.6466755319148936\n",
      "\n",
      "Epoch 16\n",
      " train loss: 0.9892007491706276, train acc: 0.6596124967354401\n",
      " val loss: 1.0068602868851195, val acc: 0.649645390070922\n",
      "\n",
      "Epoch 17\n",
      " train loss: 0.9747104962957407, train acc: 0.6613753591015932\n",
      " val loss: 0.9771844491045526, val acc: 0.6651817375886524\n",
      "\n",
      "Epoch 18\n",
      " train loss: 0.9602429382979761, train acc: 0.6671781143901802\n",
      " val loss: 0.958776415155289, val acc: 0.6669991134751774\n",
      "\n",
      "Epoch 19\n",
      " train loss: 0.948329851548894, train acc: 0.6714914142073648\n",
      " val loss: 0.9619704269348307, val acc: 0.665093085106383\n",
      "\n",
      "Epoch 20\n",
      " train loss: 0.9369827656031091, train acc: 0.6753599177330896\n",
      " val loss: 0.9508922744304575, val acc: 0.6705230496453901\n",
      "\n"
     ]
    }
   ],
   "execution_count": 49
  },
  {
   "metadata": {
    "ExecuteTime": {
     "end_time": "2024-05-26T09:20:01.486490Z",
     "start_time": "2024-05-26T09:19:54.762965Z"
    }
   },
   "cell_type": "code",
   "source": [
    "test_loss, test_acc = test(net, test_loader)\n",
    "print(f\"Точность на тесте: {test_acc}\")"
   ],
   "outputs": [
    {
     "name": "stdout",
     "output_type": "stream",
     "text": [
      "Точность на тесте: 0.6666998407643312\n"
     ]
    }
   ],
   "execution_count": 50
  },
  {
   "metadata": {},
   "cell_type": "markdown",
   "source": "Качество на тестовой выборке с lr=0.001 оказалось худшим в сравнении с результатами обучения с кусочной постоянной функцией (72%) и результатами без lr_scheduler (68%)."
  },
  {
   "cell_type": "markdown",
   "metadata": {
    "id": "xVotU378O9Du"
   },
   "source": [
    "**Задание 3.1 (1.5 балла).** Изучите, какие еще способы уменьшения длины шага представлены в <code>torch.optim.lr_scheduler</code>. Выберите несколько из них, объясните, как они устроены, и обучите модель с ними. Удалось ли добиться улучшения качества на тестовой выборке?"
   ]
  },
  {
   "metadata": {},
   "cell_type": "markdown",
   "source": "**ExponentialLR**"
  },
  {
   "metadata": {},
   "cell_type": "markdown",
   "source": [
    "\\begin{equation}\n",
    "Learning \\ rate(epoch) = Initial \\ learning \\ rate * (1 - \\frac{Decay \\ rate}{100})^{epoch}\n",
    "\\end{equation}"
   ]
  },
  {
   "metadata": {},
   "cell_type": "markdown",
   "source": "Экспоненциальное изменение lr: скорость обучения будет резко снижаться в течение первых нескольких эпох и замедляться в дальнейшем, большинство эпох будут протекать с меньшими значениями."
  },
  {
   "metadata": {
    "ExecuteTime": {
     "end_time": "2024-05-26T16:47:03.928749Z",
     "start_time": "2024-05-26T16:40:55.381934Z"
    }
   },
   "cell_type": "code",
   "source": [
    "net = BasicBlockNet().to(device)\n",
    "optimizer = optim.SGD(net.parameters(), lr=0.1, momentum=0.9)\n",
    "scheduler = optim.lr_scheduler.ExponentialLR(optimizer, gamma=0.1)\n",
    "tr_loss_log, tr_acc_log, val_loss_log, val_acc_log = train(net, optimizer, 20, train_loader, val_loader, scheduler)"
   ],
   "outputs": [
    {
     "name": "stdout",
     "output_type": "stream",
     "text": [
      "Epoch 1\n",
      " train loss: 1.4864172642366107, train acc: 0.47220227213371646\n",
      " val loss: 1.3084059043133514, val acc: 0.5395390070921986\n",
      "\n",
      "Epoch 2\n",
      " train loss: 1.1362445905831875, train acc: 0.6046169038913555\n",
      " val loss: 1.1093240631387589, val acc: 0.6152482269503545\n",
      "\n",
      "Epoch 3\n",
      " train loss: 1.0755919826096112, train acc: 0.6268118307652129\n",
      " val loss: 1.0898547535246992, val acc: 0.6189051418439715\n",
      "\n",
      "Epoch 4\n",
      " train loss: 1.0677745130859737, train acc: 0.6294112366153043\n",
      " val loss: 1.087646622099775, val acc: 0.6195700354609929\n",
      "\n",
      "Epoch 5\n",
      " train loss: 1.0666834631393336, train acc: 0.6310190323844346\n",
      " val loss: 1.0874055187752907, val acc: 0.6204343971631204\n",
      "\n",
      "Epoch 6\n",
      " train loss: 1.0670691840827355, train acc: 0.629729531209193\n",
      " val loss: 1.0874038351343034, val acc: 0.6204343971631204\n",
      "\n",
      "Epoch 7\n",
      " train loss: 1.0681258308168302, train acc: 0.6310516779838078\n",
      " val loss: 1.0878106233921456, val acc: 0.6204343971631204\n",
      "\n",
      "Epoch 8\n",
      " train loss: 1.067045692987808, train acc: 0.6289337947244712\n",
      " val loss: 1.0877578316850864, val acc: 0.6197030141843971\n",
      "\n",
      "Epoch 9\n",
      " train loss: 1.0678342863018377, train acc: 0.630300829198224\n",
      " val loss: 1.0879386729382454, val acc: 0.6192375886524822\n",
      "\n",
      "Epoch 10\n",
      " train loss: 1.0685077915461887, train acc: 0.6291092648211022\n",
      " val loss: 1.0885176047365717, val acc: 0.6185062056737588\n",
      "\n",
      "Epoch 11\n",
      " train loss: 1.0665745765679062, train acc: 0.6300151802037085\n",
      " val loss: 1.0879971836475615, val acc: 0.6195700354609929\n",
      "\n",
      "Epoch 12\n",
      " train loss: 1.0669647325545386, train acc: 0.62964791721076\n",
      " val loss: 1.087360288488104, val acc: 0.620168439716312\n",
      "\n",
      "Epoch 13\n",
      " train loss: 1.0667190071215795, train acc: 0.6289501175241577\n",
      " val loss: 1.0881302483538364, val acc: 0.6211657801418439\n",
      "\n",
      "Epoch 14\n",
      " train loss: 1.0671782013049291, train acc: 0.6290439736223556\n",
      " val loss: 1.0872156764598604, val acc: 0.6212987588652481\n",
      "\n",
      "Epoch 15\n",
      " train loss: 1.066352063166812, train acc: 0.6294561243144424\n",
      " val loss: 1.087681893845822, val acc: 0.6194370567375885\n",
      "\n",
      "Epoch 16\n",
      " train loss: 1.0680589490660366, train acc: 0.6283706581352834\n",
      " val loss: 1.0876420865667626, val acc: 0.6201019503546098\n",
      "\n",
      "Epoch 17\n",
      " train loss: 1.0673096831581492, train acc: 0.6291949595194568\n",
      " val loss: 1.087554138772031, val acc: 0.6205673758865248\n",
      "\n",
      "Epoch 18\n",
      " train loss: 1.0674279695019209, train acc: 0.6291704753199269\n",
      " val loss: 1.0874401980258048, val acc: 0.6205673758865248\n",
      "\n",
      "Epoch 19\n",
      " train loss: 1.0666612024934898, train acc: 0.6301376012013581\n",
      " val loss: 1.087799049691951, val acc: 0.6195035460992907\n",
      "\n",
      "Epoch 20\n",
      " train loss: 1.0672016943612526, train acc: 0.6306232044920346\n",
      " val loss: 1.087637965983533, val acc: 0.6208333333333332\n",
      "\n"
     ]
    }
   ],
   "execution_count": 11
  },
  {
   "metadata": {
    "ExecuteTime": {
     "end_time": "2024-05-26T16:47:10.640017Z",
     "start_time": "2024-05-26T16:47:03.929740Z"
    }
   },
   "cell_type": "code",
   "source": [
    "test_loss, test_acc = test(net, test_loader)\n",
    "print(f\"Точность на тесте: {test_acc}\")"
   ],
   "outputs": [
    {
     "name": "stdout",
     "output_type": "stream",
     "text": [
      "Точность на тесте: 0.6187300955414012\n"
     ]
    }
   ],
   "execution_count": 12
  },
  {
   "metadata": {},
   "cell_type": "markdown",
   "source": "**CosineAnnealingLR**"
  },
  {
   "metadata": {},
   "cell_type": "markdown",
   "source": [
    "\\begin{equation}\n",
    "\\eta _ {t} = \\eta _ {\\min } + \\frac {1}{2} ( \\eta  _ {\\max}  - \\eta _ {\\min } ) \\times (1+ \\cos ( \\frac {T_ {cur}}{T_ {\\max }} \\pi )),\n",
    "\\end{equation}\n",
    "\\begin{align*} \\text{где } \\eta_{\\min} \\text{ и } \\eta_{\\max} & \\text{ диапазоны для скорости обучения, при этом } n_{\\max} \\text{ устанавливается на начальное значение lr;} \\\\ T_{\\text{cur}} & \\text{ - количество эпох, пройденных с момента последнего перезапуска и } T_{\\text{max}} \\text{ - максимальное количество эпох.}\n",
    "\\end{align*}\n"
   ]
  },
  {
   "metadata": {},
   "cell_type": "markdown",
   "source": "Изменение lr по косинусной кривой: начинает с очень большой скорости обучения, а затем агрессивно уменьшает ее до значения, близкого к 0, прежде чем снова увеличить скорость обучения."
  },
  {
   "metadata": {
    "ExecuteTime": {
     "end_time": "2024-05-26T10:06:20.535571Z",
     "start_time": "2024-05-26T10:00:16.722817Z"
    }
   },
   "cell_type": "code",
   "source": [
    "net = BasicBlockNet().to(device)\n",
    "optimizer = optim.SGD(net.parameters(), lr=0.1, momentum=0.9)\n",
    "scheduler = optim.lr_scheduler.CosineAnnealingLR(optimizer, T_max=20, eta_min=0)\n",
    "tr_loss_log, tr_acc_log, val_loss_log, val_acc_log = train(net, optimizer, 20, train_loader, val_loader)"
   ],
   "outputs": [
    {
     "name": "stdout",
     "output_type": "stream",
     "text": [
      "Epoch 1\n",
      " train loss: 1.5329996259164549, train acc: 0.4543124836772003\n",
      " val loss: 1.2804459825475165, val acc: 0.5427969858156029\n",
      "\n",
      "Epoch 2\n",
      " train loss: 1.2062112053743883, train acc: 0.576794691825542\n",
      " val loss: 1.0957921543019884, val acc: 0.6170877659574469\n",
      "\n",
      "Epoch 3\n",
      " train loss: 1.0749729258268799, train acc: 0.6229392465395666\n",
      " val loss: 1.0923854498153036, val acc: 0.6248448581560284\n",
      "\n",
      "Epoch 4\n",
      " train loss: 1.0071402194295112, train acc: 0.6519734264821102\n",
      " val loss: 1.020692929562102, val acc: 0.6436170212765957\n",
      "\n",
      "Epoch 5\n",
      " train loss: 0.9675009651637383, train acc: 0.6645379015408722\n",
      " val loss: 0.9747547862377572, val acc: 0.6629654255319148\n",
      "\n",
      "Epoch 6\n",
      " train loss: 0.9429787810367466, train acc: 0.6733889396709324\n",
      " val loss: 0.9380862380595918, val acc: 0.6742686170212766\n",
      "\n",
      "Epoch 7\n",
      " train loss: 0.9159932322868264, train acc: 0.6826766126926089\n",
      " val loss: 1.0064469555591016, val acc: 0.6520833333333332\n",
      "\n",
      "Epoch 8\n",
      " train loss: 0.8987812413485002, train acc: 0.6882549294855054\n",
      " val loss: 0.9488097784367013, val acc: 0.6744459219858157\n",
      "\n",
      "Epoch 9\n",
      " train loss: 0.880978772910465, train acc: 0.6954859297466701\n",
      " val loss: 0.9486578393489756, val acc: 0.6744459219858157\n",
      "\n",
      "Epoch 10\n",
      " train loss: 0.8675184417686254, train acc: 0.6996196787673021\n",
      " val loss: 0.8969638190370925, val acc: 0.6911125886524822\n",
      "\n",
      "Epoch 11\n",
      " train loss: 0.8543432924276732, train acc: 0.704667504570384\n",
      " val loss: 0.9787640300202877, val acc: 0.6612810283687944\n",
      "\n",
      "Epoch 12\n",
      " train loss: 0.8396569569978243, train acc: 0.706348752938104\n",
      " val loss: 0.9006901824727972, val acc: 0.6927526595744681\n",
      "\n",
      "Epoch 13\n",
      " train loss: 0.8263357626018838, train acc: 0.7137103355967616\n",
      " val loss: 0.9248617197604889, val acc: 0.6845301418439715\n",
      "\n",
      "Epoch 14\n",
      " train loss: 0.8142057772746252, train acc: 0.7186847088012536\n",
      " val loss: 0.9385097059797733, val acc: 0.6785239361702128\n",
      "\n",
      "Epoch 15\n",
      " train loss: 0.8076103341644817, train acc: 0.7232795769130321\n",
      " val loss: 0.9032220429562507, val acc: 0.6996675531914893\n",
      "\n",
      "Epoch 16\n",
      " train loss: 0.7920515411950553, train acc: 0.7241773308957953\n",
      " val loss: 0.8865120563101261, val acc: 0.6977393617021277\n",
      "\n",
      "Epoch 17\n",
      " train loss: 0.7881121327606808, train acc: 0.7287069078088273\n",
      " val loss: 0.9079220264515978, val acc: 0.6930629432624115\n",
      "\n",
      "Epoch 18\n",
      " train loss: 0.7783494278434425, train acc: 0.7284743079132934\n",
      " val loss: 0.9100499640119837, val acc: 0.6919991134751774\n",
      "\n",
      "Epoch 19\n",
      " train loss: 0.7653228021082102, train acc: 0.7356522590754766\n",
      " val loss: 0.8692584825322983, val acc: 0.7069813829787234\n",
      "\n",
      "Epoch 20\n",
      " train loss: 0.7631602476894093, train acc: 0.7361419430660747\n",
      " val loss: 0.8666202754416364, val acc: 0.7057402482269503\n",
      "\n"
     ]
    }
   ],
   "execution_count": 62
  },
  {
   "metadata": {
    "ExecuteTime": {
     "end_time": "2024-05-26T10:06:27.134708Z",
     "start_time": "2024-05-26T10:06:20.536572Z"
    }
   },
   "cell_type": "code",
   "source": [
    "test_loss, test_acc = test(net, test_loader)\n",
    "print(f\"Точность на тесте: {test_acc}\")"
   ],
   "outputs": [
    {
     "name": "stdout",
     "output_type": "stream",
     "text": [
      "Точность на тесте: 0.7067078025477707\n"
     ]
    }
   ],
   "execution_count": 63
  },
  {
   "metadata": {},
   "cell_type": "markdown",
   "source": "**StepLR**"
  },
  {
   "metadata": {},
   "cell_type": "markdown",
   "source": "![Image](https://i.ibb.co/9rnZdWs/lr-shed.png)"
  },
  {
   "metadata": {},
   "cell_type": "markdown",
   "source": "Каждые step_size эпох значение learning rate уменьшается, то есть уменьшение значения lr на заданный фактор gamma через каждые step_size эпох."
  },
  {
   "metadata": {
    "ExecuteTime": {
     "end_time": "2024-05-26T10:14:24.689134Z",
     "start_time": "2024-05-26T10:08:21.395643Z"
    }
   },
   "cell_type": "code",
   "source": [
    "net = BasicBlockNet().to(device)\n",
    "optimizer = optim.SGD(net.parameters(), lr=0.1, momentum=0.9)\n",
    "scheduler = optim.lr_scheduler.StepLR(optimizer, step_size=4, gamma=0.1)\n",
    "tr_loss_log, tr_acc_log, val_loss_log, val_acc_log = train(net, optimizer, 20, train_loader, val_loader)"
   ],
   "outputs": [
    {
     "name": "stdout",
     "output_type": "stream",
     "text": [
      "Epoch 1\n",
      " train loss: 1.5131325795837904, train acc: 0.46127415774353614\n",
      " val loss: 1.302402955166837, val acc: 0.533377659574468\n",
      "\n",
      "Epoch 2\n",
      " train loss: 1.1784458886116906, train acc: 0.5859558631496473\n",
      " val loss: 1.107191117266391, val acc: 0.6173980496453901\n",
      "\n",
      "Epoch 3\n",
      " train loss: 1.0478273071144355, train acc: 0.6370625489683991\n",
      " val loss: 1.1076532280191462, val acc: 0.6211657801418439\n",
      "\n",
      "Epoch 4\n",
      " train loss: 0.9884047069104978, train acc: 0.6555562810133194\n",
      " val loss: 0.983914149568436, val acc: 0.660261524822695\n",
      "\n",
      "Epoch 5\n",
      " train loss: 0.958353960317929, train acc: 0.6668108513972316\n",
      " val loss: 0.9828557478620651, val acc: 0.6618351063829787\n",
      "\n",
      "Epoch 6\n",
      " train loss: 0.9314342431002168, train acc: 0.676767759206059\n",
      " val loss: 0.9206866069042936, val acc: 0.6818927304964539\n",
      "\n",
      "Epoch 7\n",
      " train loss: 0.9045279612270962, train acc: 0.6874795965003917\n",
      " val loss: 0.9392478859170954, val acc: 0.6718306737588652\n",
      "\n",
      "Epoch 8\n",
      " train loss: 0.8819810381428197, train acc: 0.6973140833115695\n",
      " val loss: 0.9242171525955201, val acc: 0.6770833333333333\n",
      "\n",
      "Epoch 9\n",
      " train loss: 0.8642971807685587, train acc: 0.7010560851397232\n",
      " val loss: 0.9185263479009588, val acc: 0.6848847517730497\n",
      "\n",
      "Epoch 10\n",
      " train loss: 0.8505852074248264, train acc: 0.7051245429616088\n",
      " val loss: 0.9271530105712565, val acc: 0.6822916666666667\n",
      "\n",
      "Epoch 11\n",
      " train loss: 0.8313804305340734, train acc: 0.7129594868111778\n",
      " val loss: 0.9415938461080511, val acc: 0.683732269503546\n",
      "\n",
      "Epoch 12\n",
      " train loss: 0.823210506432671, train acc: 0.7162199660485766\n",
      " val loss: 0.903385522771389, val acc: 0.6870124113475178\n",
      "\n",
      "Epoch 13\n",
      " train loss: 0.8059307415263091, train acc: 0.7215289566466441\n",
      " val loss: 0.8894687028641396, val acc: 0.6933510638297873\n",
      "\n",
      "Epoch 14\n",
      " train loss: 0.797860563509643, train acc: 0.7240793940976756\n",
      " val loss: 0.8941150066700387, val acc: 0.6956781914893617\n",
      "\n",
      "Epoch 15\n",
      " train loss: 0.7883200764765034, train acc: 0.7255770109689214\n",
      " val loss: 0.8785572219402232, val acc: 0.7013519503546098\n",
      "\n",
      "Epoch 16\n",
      " train loss: 0.77767994128154, train acc: 0.7316613345521024\n",
      " val loss: 0.8690545893730002, val acc: 0.7081560283687944\n",
      "\n",
      "Epoch 17\n",
      " train loss: 0.764691412666816, train acc: 0.7379660159310525\n",
      " val loss: 0.8705675678050264, val acc: 0.7080673758865248\n",
      "\n",
      "Epoch 18\n",
      " train loss: 0.7592293810256002, train acc: 0.7376273178375555\n",
      " val loss: 0.850203938560283, val acc: 0.7117021276595744\n",
      "\n",
      "Epoch 19\n",
      " train loss: 0.7469330474707064, train acc: 0.7417120984591278\n",
      " val loss: 0.8956038350754596, val acc: 0.6957225177304965\n",
      "\n",
      "Epoch 20\n",
      " train loss: 0.7443409053237608, train acc: 0.7442135675110996\n",
      " val loss: 0.920534196559419, val acc: 0.6834663120567375\n",
      "\n"
     ]
    }
   ],
   "execution_count": 65
  },
  {
   "metadata": {
    "ExecuteTime": {
     "end_time": "2024-05-26T10:14:31.303843Z",
     "start_time": "2024-05-26T10:14:24.690136Z"
    }
   },
   "cell_type": "code",
   "source": [
    "test_loss, test_acc = test(net, test_loader)\n",
    "print(f\"Точность на тесте: {test_acc}\")"
   ],
   "outputs": [
    {
     "name": "stdout",
     "output_type": "stream",
     "text": [
      "Точность на тесте: 0.6841162420382165\n"
     ]
    }
   ],
   "execution_count": 66
  },
  {
   "metadata": {},
   "cell_type": "markdown",
   "source": "Наихудшее качество оказалось с ExponentialLR - 61.2%. Лучшее качество у CosineAnnealingLR - 70.7%. Побить качество с кусочно постоянной функцией (71.7%) не удалось."
  },
  {
   "cell_type": "markdown",
   "metadata": {
    "id": "7xFXgl_3_E--"
   },
   "source": [
    "## 4. Аугментации данных (2 балла)"
   ]
  },
  {
   "cell_type": "markdown",
   "metadata": {
    "id": "5G0Easo9O9Du"
   },
   "source": [
    "Еще одной стандартной техникой, применяющейся в глубинном обучении, а особенно часто в компьютерном зрении, являются аугментации данных. Суть аугментаций состоит в том, что мы можем некоторым синтетическим образом видоизменять объекты обучающей выборки, тем самым расширяя ее, а также делая итоговую модель более устойчивой к таким изменениям.\n",
    "\n",
    "Простейшая аугментация, которую можно применить к картинкам — разворот картинки по горизонтальной оси. То есть при обучении модели с вероятностью $0.5$ мы будем разворачивать картинку из обучающей выборки."
   ]
  },
  {
   "cell_type": "code",
   "metadata": {
    "id": "SzeFpgtfO9Du",
    "ExecuteTime": {
     "end_time": "2024-05-26T10:14:38.650447Z",
     "start_time": "2024-05-26T10:14:31.303843Z"
    }
   },
   "source": [
    "dataiter = iter(train_loader)\n",
    "images, labels = next(dataiter)\n",
    "\n",
    "imshow(torchvision.utils.make_grid(images[:4]))\n",
    "\n",
    "imshow(torchvision.utils.make_grid(transforms.functional.hflip(images[:4])))"
   ],
   "outputs": [
    {
     "data": {
      "text/plain": [
       "<Figure size 640x480 with 1 Axes>"
      ],
      "image/png": "[encoded data removed]"
     },
     "metadata": {},
     "output_type": "display_data"
    },
    {
     "data": {
      "text/plain": [
       "<Figure size 640x480 with 1 Axes>"
      ],
      "image/png": "[encoded data removed]"
     },
     "metadata": {},
     "output_type": "display_data"
    }
   ],
   "execution_count": 67
  },
  {
   "cell_type": "markdown",
   "metadata": {
    "id": "BR4a-XJQO9Du"
   },
   "source": [
    "Наиболее удобным способом работы с аугментациями в PyTorch является их задание в списке <code>transforms</code>, который затем передается в загрузчик данных. Обучим нашу сеть, применяя горизонтальные повороты:"
   ]
  },
  {
   "cell_type": "code",
   "metadata": {
    "id": "na0ScBf-_AqX",
    "scrolled": true,
    "ExecuteTime": {
     "end_time": "2024-05-26T10:20:51.929938Z",
     "start_time": "2024-05-26T10:14:38.651449Z"
    }
   },
   "source": [
    "transform = transforms.Compose(\n",
    "        [transforms.RandomHorizontalFlip(),\n",
    "         transforms.ToTensor(),\n",
    "         transforms.Normalize((0.5, 0.5, 0.5), (0.5, 0.5, 0.5))]\n",
    ")\n",
    "\n",
    "train_loader, val_loader, test_loader = get_cifar10_data(batch_size=64, transform_train=transform)\n",
    "\n",
    "net = BasicBlockNet().to(device)\n",
    "optimizer = optim.SGD(net.parameters(), lr=0.1, momentum=0.9)\n",
    "scheduler = optim.lr_scheduler.MultiStepLR(optimizer, milestones=[10, 15], gamma=0.1)\n",
    "tr_loss_log, tr_acc_log, val_loss_log, val_acc_log = train(net, optimizer, 20, train_loader, val_loader, scheduler)"
   ],
   "outputs": [
    {
     "name": "stdout",
     "output_type": "stream",
     "text": [
      "Files already downloaded and verified\n",
      "Files already downloaded and verified\n",
      "Epoch 1\n",
      " train loss: 1.4920895167199089, train acc: 0.4722104335335596\n",
      " val loss: 1.2482956650409294, val acc: 0.5602393617021276\n",
      "\n",
      "Epoch 2\n",
      " train loss: 1.189909408471702, train acc: 0.5840052885870985\n",
      " val loss: 1.1543054415824565, val acc: 0.5933510638297872\n",
      "\n",
      "Epoch 3\n",
      " train loss: 1.0762668508062414, train acc: 0.6271219639592582\n",
      " val loss: 1.1080753765207656, val acc: 0.6074911347517731\n",
      "\n",
      "Epoch 4\n",
      " train loss: 1.0239604042478627, train acc: 0.644501664925568\n",
      " val loss: 0.9923221050424779, val acc: 0.6572695035460993\n",
      "\n",
      "Epoch 5\n",
      " train loss: 0.9806375331373057, train acc: 0.6605918647166362\n",
      " val loss: 1.0097375994033002, val acc: 0.6456117021276596\n",
      "\n",
      "Epoch 6\n",
      " train loss: 0.9535440799305165, train acc: 0.6703651410289893\n",
      " val loss: 0.9797231641221553, val acc: 0.6686391843971631\n",
      "\n",
      "Epoch 7\n",
      " train loss: 0.9225405083060046, train acc: 0.6796691368503527\n",
      " val loss: 0.9549308036236053, val acc: 0.6708111702127659\n",
      "\n",
      "Epoch 8\n",
      " train loss: 0.9056612905898086, train acc: 0.6871408984068947\n",
      " val loss: 0.9216886867868139, val acc: 0.6831781914893617\n",
      "\n",
      "Epoch 9\n",
      " train loss: 0.89228250584829, train acc: 0.6918255419169497\n",
      " val loss: 0.9160344801050552, val acc: 0.6824911347517731\n",
      "\n",
      "Epoch 10\n",
      " train loss: 0.8755410924908013, train acc: 0.6966162836249673\n",
      " val loss: 0.9244011310820884, val acc: 0.6866134751773051\n",
      "\n",
      "Epoch 11\n",
      " train loss: 0.7900910004837204, train acc: 0.7273643575346043\n",
      " val loss: 0.8108072031051554, val acc: 0.7196808510638298\n",
      "\n",
      "Epoch 12\n",
      " train loss: 0.7698375226374736, train acc: 0.7337302494123792\n",
      " val loss: 0.8019786933635143, val acc: 0.7241799645390071\n",
      "\n",
      "Epoch 13\n",
      " train loss: 0.7596502899578764, train acc: 0.7375457038391224\n",
      " val loss: 0.795534795903145, val acc: 0.7267065602836881\n",
      "\n",
      "Epoch 14\n",
      " train loss: 0.7595655475172743, train acc: 0.7368438234525986\n",
      " val loss: 0.7951461480018941, val acc: 0.7251994680851064\n",
      "\n",
      "Epoch 15\n",
      " train loss: 0.7552757490378629, train acc: 0.7392228715069209\n",
      " val loss: 0.7927775036781393, val acc: 0.7268395390070923\n",
      "\n",
      "Epoch 16\n",
      " train loss: 0.7418569876681298, train acc: 0.7423772525463567\n",
      " val loss: 0.7885718287305629, val acc: 0.7285682624113476\n",
      "\n",
      "Epoch 17\n",
      " train loss: 0.7389134028602997, train acc: 0.744919528597545\n",
      " val loss: 0.7839574613469712, val acc: 0.7296985815602838\n",
      "\n",
      "Epoch 18\n",
      " train loss: 0.7406633063687703, train acc: 0.7454908265865761\n",
      " val loss: 0.7889717822379254, val acc: 0.7268395390070923\n",
      "\n",
      "Epoch 19\n",
      " train loss: 0.7392314834285262, train acc: 0.7460090754766258\n",
      " val loss: 0.7829366143713606, val acc: 0.7287898936170213\n",
      "\n",
      "Epoch 20\n",
      " train loss: 0.7390421639848671, train acc: 0.7441686798119614\n",
      " val loss: 0.7831636304550983, val acc: 0.729299645390071\n",
      "\n"
     ]
    }
   ],
   "execution_count": 68
  },
  {
   "cell_type": "markdown",
   "metadata": {
    "id": "v3ZIqDQqO9Dv"
   },
   "source": [
    "Посчитайте точность на тестовой выборке:"
   ]
  },
  {
   "cell_type": "code",
   "metadata": {
    "id": "nNJizMkM_Auh",
    "ExecuteTime": {
     "end_time": "2024-05-26T10:20:58.403001Z",
     "start_time": "2024-05-26T10:20:51.929938Z"
    }
   },
   "source": [
    "test_loss, test_acc = test(net, test_loader)\n",
    "print(f\"Точность на тесте: {test_acc}\")"
   ],
   "outputs": [
    {
     "name": "stdout",
     "output_type": "stream",
     "text": [
      "Точность на тесте: 0.7210390127388535\n"
     ]
    }
   ],
   "execution_count": 69
  },
  {
   "cell_type": "markdown",
   "metadata": {
    "id": "KndehSCHO9Dv"
   },
   "source": [
    "**Задание 4.1 (2 балла).** Изучите, какие еще способы аугментаций изображений представлены в <code>torchvision.transforms</code>. Выберите несколько из них, объясните, как они устроены, и обучите модель с ними (по отдельности и вместе). Удалось ли добиться улучшения качества на тестовой выборке?"
   ]
  },
  {
   "metadata": {},
   "cell_type": "markdown",
   "source": "**RandomRotation**"
  },
  {
   "metadata": {},
   "cell_type": "markdown",
   "source": "Поворачивает изображение на случайный угол в пределах указанного диапазона градусов."
  },
  {
   "metadata": {
    "ExecuteTime": {
     "end_time": "2024-05-26T10:27:23.374700Z",
     "start_time": "2024-05-26T10:20:58.403001Z"
    }
   },
   "cell_type": "code",
   "source": [
    "transform_rotation = transforms.Compose(\n",
    "    [transforms.RandomRotation(30),\n",
    "     transforms.ToTensor(),\n",
    "     transforms.Normalize((0.5, 0.5, 0.5), (0.5, 0.5, 0.5))]\n",
    ")\n",
    "\n",
    "train_loader, val_loader, test_loader = get_cifar10_data(batch_size=64, transform_train=transform_rotation)\n",
    "\n",
    "net = BasicBlockNet().to(device)\n",
    "optimizer = optim.SGD(net.parameters(), lr=0.1, momentum=0.9)\n",
    "scheduler = optim.lr_scheduler.MultiStepLR(optimizer, milestones=[10, 15], gamma=0.1)\n",
    "tr_loss_log, tr_acc_log, val_loss_log, val_acc_log = train(net, optimizer, 20, train_loader, val_loader, scheduler)"
   ],
   "outputs": [
    {
     "name": "stdout",
     "output_type": "stream",
     "text": [
      "Files already downloaded and verified\n",
      "Files already downloaded and verified\n",
      "Epoch 1\n",
      " train loss: 1.6152985348779934, train acc: 0.417916721075999\n",
      " val loss: 1.446382720419701, val acc: 0.48399822695035466\n",
      "\n",
      "Epoch 2\n",
      " train loss: 1.3805605278808413, train acc: 0.509014266126926\n",
      " val loss: 1.2910865210472269, val acc: 0.5384751773049645\n",
      "\n",
      "Epoch 3\n",
      " train loss: 1.2749870257142257, train acc: 0.5452223165317315\n",
      " val loss: 1.293125546232183, val acc: 0.5401152482269503\n",
      "\n",
      "Epoch 4\n",
      " train loss: 1.2172955897869968, train acc: 0.5711551645338209\n",
      " val loss: 1.166222355213571, val acc: 0.5851285460992907\n",
      "\n",
      "Epoch 5\n",
      " train loss: 1.17858368539723, train acc: 0.5852743862627318\n",
      " val loss: 1.2085155674751769, val acc: 0.5737145390070922\n",
      "\n",
      "Epoch 6\n",
      " train loss: 1.1454699165860303, train acc: 0.5971124967354401\n",
      " val loss: 1.3175325132430868, val acc: 0.5637854609929077\n",
      "\n",
      "Epoch 7\n",
      " train loss: 1.1162446953042988, train acc: 0.6068939344476364\n",
      " val loss: 1.1364584572771763, val acc: 0.5966312056737588\n",
      "\n",
      "Epoch 8\n",
      " train loss: 1.1004678581924718, train acc: 0.6128150300339514\n",
      " val loss: 1.0867552029325607, val acc: 0.6199024822695035\n",
      "\n",
      "Epoch 9\n",
      " train loss: 1.0849672106981714, train acc: 0.619160518412118\n",
      " val loss: 1.109436684466423, val acc: 0.6104609929078013\n",
      "\n",
      "Epoch 10\n",
      " train loss: 1.0751923285629021, train acc: 0.6210662052755288\n",
      " val loss: 1.1083960355596338, val acc: 0.6176196808510638\n",
      "\n",
      "Epoch 11\n",
      " train loss: 0.977729509800836, train acc: 0.6537444502481066\n",
      " val loss: 0.9842460076859657, val acc: 0.656604609929078\n",
      "\n",
      "Epoch 12\n",
      " train loss: 0.9646607414024185, train acc: 0.6649010838338992\n",
      " val loss: 0.9929464497464768, val acc: 0.6555851063829787\n",
      "\n",
      "Epoch 13\n",
      " train loss: 0.9537713529858772, train acc: 0.6667700443980151\n",
      " val loss: 0.9790881146775915, val acc: 0.6619680851063829\n",
      "\n",
      "Epoch 14\n",
      " train loss: 0.9491314816082635, train acc: 0.6658926939148603\n",
      " val loss: 0.986799363126146, val acc: 0.6550531914893617\n",
      "\n",
      "Epoch 15\n",
      " train loss: 0.9450443735724176, train acc: 0.6690185100548446\n",
      " val loss: 0.9732544196412919, val acc: 0.6623670212765957\n",
      "\n",
      "Epoch 16\n",
      " train loss: 0.928775511232547, train acc: 0.675249738835205\n",
      " val loss: 0.9656824264120548, val acc: 0.665093085106383\n",
      "\n",
      "Epoch 17\n",
      " train loss: 0.9375236514935328, train acc: 0.6709323583180987\n",
      " val loss: 0.9680499117425148, val acc: 0.6607047872340426\n",
      "\n",
      "Epoch 18\n",
      " train loss: 0.9330377210428772, train acc: 0.671466930007835\n",
      " val loss: 0.9656662545305618, val acc: 0.6644946808510638\n",
      "\n",
      "Epoch 19\n",
      " train loss: 0.9289158438851672, train acc: 0.6747070057456255\n",
      " val loss: 0.968443803584322, val acc: 0.6607712765957446\n",
      "\n",
      "Epoch 20\n",
      " train loss: 0.9303510730619622, train acc: 0.6736378623661531\n",
      " val loss: 0.9646880000195605, val acc: 0.6669326241134752\n",
      "\n"
     ]
    }
   ],
   "execution_count": 70
  },
  {
   "metadata": {
    "ExecuteTime": {
     "end_time": "2024-05-26T10:27:29.837411Z",
     "start_time": "2024-05-26T10:27:23.375701Z"
    }
   },
   "cell_type": "code",
   "source": [
    "test_loss, test_acc = test(net, test_loader)\n",
    "print(f\"Точность на тесте: {test_acc}\")"
   ],
   "outputs": [
    {
     "name": "stdout",
     "output_type": "stream",
     "text": [
      "Точность на тесте: 0.6870023885350318\n"
     ]
    }
   ],
   "execution_count": 71
  },
  {
   "metadata": {},
   "cell_type": "markdown",
   "source": "**RandomVerticalFlip**"
  },
  {
   "metadata": {},
   "cell_type": "markdown",
   "source": "Случайно переворачивает изображение по вертикали."
  },
  {
   "metadata": {
    "ExecuteTime": {
     "end_time": "2024-05-26T11:32:53.391481Z",
     "start_time": "2024-05-26T11:26:16.527648Z"
    }
   },
   "cell_type": "code",
   "source": [
    "transform_vertical_flip = transforms.Compose(\n",
    "    [transforms.RandomVerticalFlip(),\n",
    "     transforms.ToTensor(),\n",
    "     transforms.Normalize((0.5, 0.5, 0.5), (0.5, 0.5, 0.5))]\n",
    ")\n",
    "\n",
    "train_loader, val_loader, test_loader = get_cifar10_data(batch_size=64, transform_train=transform_vertical_flip)\n",
    "\n",
    "net = BasicBlockNet().to(device)\n",
    "optimizer = optim.SGD(net.parameters(), lr=0.1, momentum=0.9)\n",
    "scheduler = optim.lr_scheduler.MultiStepLR(optimizer, milestones=[10, 15], gamma=0.1)\n",
    "tr_loss_log, tr_acc_log, val_loss_log, val_acc_log = train(net, optimizer, 20, train_loader, val_loader, scheduler)"
   ],
   "outputs": [
    {
     "name": "stdout",
     "output_type": "stream",
     "text": [
      "Files already downloaded and verified\n",
      "Files already downloaded and verified\n",
      "Epoch 1\n",
      " train loss: 1.6643643241913706, train acc: 0.3956687451031601\n",
      " val loss: 1.4962312089635972, val acc: 0.4567597517730496\n",
      "\n",
      "Epoch 2\n",
      " train loss: 1.4084452567196415, train acc: 0.49865744972577697\n",
      " val loss: 1.3382000083618977, val acc: 0.5225620567375886\n",
      "\n",
      "Epoch 3\n",
      " train loss: 1.2852383043473992, train acc: 0.5430554648733351\n",
      " val loss: 1.3022715812033796, val acc: 0.5349290780141843\n",
      "\n",
      "Epoch 4\n",
      " train loss: 1.2335669296969007, train acc: 0.5635977082789241\n",
      " val loss: 1.1913373556542903, val acc: 0.580186170212766\n",
      "\n",
      "Epoch 5\n",
      " train loss: 1.1866797023543056, train acc: 0.5816507247323062\n",
      " val loss: 1.1670781947196798, val acc: 0.5812278368794327\n",
      "\n",
      "Epoch 6\n",
      " train loss: 1.1584176037603584, train acc: 0.5895183141812484\n",
      " val loss: 1.2604836981347267, val acc: 0.5736923758865248\n",
      "\n",
      "Epoch 7\n",
      " train loss: 1.1265741066915245, train acc: 0.6050453773831288\n",
      " val loss: 1.1586782749663007, val acc: 0.5948138297872341\n",
      "\n",
      "Epoch 8\n",
      " train loss: 1.1100637933453867, train acc: 0.6074897166361974\n",
      " val loss: 1.19300670725234, val acc: 0.5888519503546098\n",
      "\n",
      "Epoch 9\n",
      " train loss: 1.0875880919819123, train acc: 0.6163897231653173\n",
      " val loss: 1.1689648042333887, val acc: 0.590625\n",
      "\n",
      "Epoch 10\n",
      " train loss: 1.0764994306363833, train acc: 0.6206214089840689\n",
      " val loss: 1.095027194124587, val acc: 0.6215425531914893\n",
      "\n",
      "Epoch 11\n",
      " train loss: 0.974427820450645, train acc: 0.657580308174458\n",
      " val loss: 0.9996533043841098, val acc: 0.6529920212765957\n",
      "\n",
      "Epoch 12\n",
      " train loss: 0.9562295422475561, train acc: 0.6629668320710368\n",
      " val loss: 0.9887891274817446, val acc: 0.657956560283688\n",
      "\n",
      "Epoch 13\n",
      " train loss: 0.9515775061830524, train acc: 0.6651500065291198\n",
      " val loss: 0.9849001176813815, val acc: 0.6591533687943263\n",
      "\n",
      "Epoch 14\n",
      " train loss: 0.9461168672964385, train acc: 0.6669863214938627\n",
      " val loss: 0.9836842247780333, val acc: 0.6597296099290779\n",
      "\n",
      "Epoch 15\n",
      " train loss: 0.9451629379985538, train acc: 0.667741250979368\n",
      " val loss: 0.9771991425372185, val acc: 0.6600842198581561\n",
      "\n",
      "Epoch 16\n",
      " train loss: 0.9267095655366315, train acc: 0.6737153956646644\n",
      " val loss: 0.9763633241044715, val acc: 0.6618794326241135\n",
      "\n",
      "Epoch 17\n",
      " train loss: 0.9263284628090519, train acc: 0.675343594933403\n",
      " val loss: 0.9661676992761328, val acc: 0.6639406028368795\n",
      "\n",
      "Epoch 18\n",
      " train loss: 0.925822287852411, train acc: 0.6744050339514234\n",
      " val loss: 0.9681626175312286, val acc: 0.6621675531914893\n",
      "\n",
      "Epoch 19\n",
      " train loss: 0.9252652080229039, train acc: 0.6761923805171063\n",
      " val loss: 0.969826121025897, val acc: 0.6620124113475178\n",
      "\n",
      "Epoch 20\n",
      " train loss: 0.9207906380867827, train acc: 0.677143183598851\n",
      " val loss: 0.9683532598170829, val acc: 0.6651152482269502\n",
      "\n"
     ]
    }
   ],
   "execution_count": 85
  },
  {
   "metadata": {
    "ExecuteTime": {
     "end_time": "2024-05-26T11:33:00.056115Z",
     "start_time": "2024-05-26T11:32:53.392482Z"
    }
   },
   "cell_type": "code",
   "source": [
    "test_loss, test_acc = test(net, test_loader)\n",
    "print(f\"Точность на тесте: {test_acc}\")"
   ],
   "outputs": [
    {
     "name": "stdout",
     "output_type": "stream",
     "text": [
      "Точность на тесте: 0.6576433121019108\n"
     ]
    }
   ],
   "execution_count": 86
  },
  {
   "metadata": {},
   "cell_type": "markdown",
   "source": "**ColorJitter**"
  },
  {
   "metadata": {},
   "cell_type": "markdown",
   "source": "Случайным образом изменяет яркость, контраст, насыщенность и оттенок изображения в пределах указанных диапазонов."
  },
  {
   "metadata": {
    "ExecuteTime": {
     "end_time": "2024-05-26T10:43:15.312142Z",
     "start_time": "2024-05-26T10:34:27.557512Z"
    }
   },
   "cell_type": "code",
   "source": [
    "transform_color_jitter = transforms.Compose(\n",
    "    [transforms.ColorJitter(brightness=0.2, contrast=0.2, saturation=0.2, hue=0.2),\n",
    "     transforms.ToTensor(),\n",
    "     transforms.Normalize((0.5, 0.5, 0.5), (0.5, 0.5, 0.5))]\n",
    ")\n",
    "\n",
    "train_loader, val_loader, test_loader = get_cifar10_data(batch_size=64, transform_train=transform_color_jitter)\n",
    "\n",
    "net = BasicBlockNet().to(device)\n",
    "optimizer = optim.SGD(net.parameters(), lr=0.1, momentum=0.9)\n",
    "scheduler = optim.lr_scheduler.MultiStepLR(optimizer, milestones=[10, 15], gamma=0.1)\n",
    "tr_loss_log, tr_acc_log, val_loss_log, val_acc_log = train(net, optimizer, 20, train_loader, val_loader, scheduler)"
   ],
   "outputs": [
    {
     "name": "stdout",
     "output_type": "stream",
     "text": [
      "Files already downloaded and verified\n",
      "Files already downloaded and verified\n",
      "Epoch 1\n",
      " train loss: 1.5785072316199378, train acc: 0.4394832201619222\n",
      " val loss: 1.3279793952373748, val acc: 0.5315381205673758\n",
      "\n",
      "Epoch 2\n",
      " train loss: 1.248334662243043, train acc: 0.5659481914337947\n",
      " val loss: 1.1762731930042836, val acc: 0.5929299645390071\n",
      "\n",
      "Epoch 3\n",
      " train loss: 1.133588910320777, train acc: 0.6091791264037607\n",
      " val loss: 1.1569473066228502, val acc: 0.5962765957446808\n",
      "\n",
      "Epoch 4\n",
      " train loss: 1.0903205872671695, train acc: 0.6237676286236616\n",
      " val loss: 1.0945271925723299, val acc: 0.6226950354609928\n",
      "\n",
      "Epoch 5\n",
      " train loss: 1.0476183703874102, train acc: 0.6393395795246801\n",
      " val loss: 1.0791943118927327, val acc: 0.6229609929078014\n",
      "\n",
      "Epoch 6\n",
      " train loss: 1.0181630736513154, train acc: 0.6512552232958997\n",
      " val loss: 1.0903283086228879, val acc: 0.6321586879432625\n",
      "\n",
      "Epoch 7\n",
      " train loss: 0.9839664496059174, train acc: 0.6604041525202403\n",
      " val loss: 1.0294232868133708, val acc: 0.6472739361702128\n",
      "\n",
      "Epoch 8\n",
      " train loss: 0.9645217768235006, train acc: 0.6662477148080439\n",
      " val loss: 0.9917049917768925, val acc: 0.6616578014184397\n",
      "\n",
      "Epoch 9\n",
      " train loss: 0.9488109595378966, train acc: 0.6733399712718725\n",
      " val loss: 1.0280099237218816, val acc: 0.640447695035461\n",
      "\n",
      "Epoch 10\n",
      " train loss: 0.9322951867549903, train acc: 0.6811993993209715\n",
      " val loss: 0.9973803849930459, val acc: 0.6594636524822695\n",
      "\n",
      "Epoch 11\n",
      " train loss: 0.83460133456007, train acc: 0.7140449529903369\n",
      " val loss: 0.8901359152286611, val acc: 0.6939716312056737\n",
      "\n",
      "Epoch 12\n",
      " train loss: 0.8146516437722299, train acc: 0.7219247845390441\n",
      " val loss: 0.8865697749117587, val acc: 0.6979609929078013\n",
      "\n",
      "Epoch 13\n",
      " train loss: 0.8090387030319061, train acc: 0.7240100221990076\n",
      " val loss: 0.878195143506882, val acc: 0.6987367021276596\n",
      "\n",
      "Epoch 14\n",
      " train loss: 0.807859375064944, train acc: 0.7223859036301906\n",
      " val loss: 0.8760173138151778, val acc: 0.7001108156028369\n",
      "\n",
      "Epoch 15\n",
      " train loss: 0.7998381479348735, train acc: 0.7256953512666492\n",
      " val loss: 0.8753207861108983, val acc: 0.702770390070922\n",
      "\n",
      "Epoch 16\n",
      " train loss: 0.7854832039236804, train acc: 0.731665415252024\n",
      " val loss: 0.8671236832091149, val acc: 0.7059175531914894\n",
      "\n",
      "Epoch 17\n",
      " train loss: 0.7870057138054201, train acc: 0.7304901736745887\n",
      " val loss: 0.8611542564757326, val acc: 0.702947695035461\n",
      "\n",
      "Epoch 18\n",
      " train loss: 0.7848103915424626, train acc: 0.7308207103682424\n",
      " val loss: 0.8631506562232971, val acc: 0.7047872340425532\n",
      "\n",
      "Epoch 19\n",
      " train loss: 0.7833840047746515, train acc: 0.7299474405850092\n",
      " val loss: 0.8672782722939836, val acc: 0.7026374113475178\n",
      "\n",
      "Epoch 20\n",
      " train loss: 0.7832838075688378, train acc: 0.731338959258292\n",
      " val loss: 0.8639262166429074, val acc: 0.7028147163120566\n",
      "\n"
     ]
    }
   ],
   "execution_count": 74
  },
  {
   "metadata": {
    "ExecuteTime": {
     "end_time": "2024-05-26T10:43:22.092236Z",
     "start_time": "2024-05-26T10:43:15.313140Z"
    }
   },
   "cell_type": "code",
   "source": [
    "test_loss, test_acc = test(net, test_loader)\n",
    "print(f\"Точность на тесте: {test_acc}\")"
   ],
   "outputs": [
    {
     "name": "stdout",
     "output_type": "stream",
     "text": [
      "Точность на тесте: 0.7078025477707006\n"
     ]
    }
   ],
   "execution_count": 75
  },
  {
   "metadata": {},
   "cell_type": "markdown",
   "source": "**RandomGrayscale**"
  },
  {
   "metadata": {},
   "cell_type": "markdown",
   "source": "Преобразует изображение в оттенки серого с вероятностью p."
  },
  {
   "metadata": {
    "ExecuteTime": {
     "end_time": "2024-05-26T10:49:53.782196Z",
     "start_time": "2024-05-26T10:43:22.094226Z"
    }
   },
   "cell_type": "code",
   "source": [
    "transform_grayscale = transforms.Compose(\n",
    "    [transforms.RandomGrayscale(p=0.1),\n",
    "     transforms.ToTensor(),\n",
    "     transforms.Normalize((0.5, 0.5, 0.5), (0.5, 0.5, 0.5))]\n",
    ")\n",
    "\n",
    "train_loader, val_loader, test_loader = get_cifar10_data(batch_size=64, transform_train=transform_grayscale)\n",
    "\n",
    "net = BasicBlockNet().to(device)\n",
    "optimizer = optim.SGD(net.parameters(), lr=0.1, momentum=0.9)\n",
    "scheduler = optim.lr_scheduler.MultiStepLR(optimizer, milestones=[10, 15], gamma=0.1)\n",
    "tr_loss_log, tr_acc_log, val_loss_log, val_acc_log = train(net, optimizer, 20, train_loader, val_loader, scheduler)"
   ],
   "outputs": [
    {
     "name": "stdout",
     "output_type": "stream",
     "text": [
      "Files already downloaded and verified\n",
      "Files already downloaded and verified\n",
      "Epoch 1\n",
      " train loss: 1.5216048472106347, train acc: 0.45959290937581615\n",
      " val loss: 1.3135700930940344, val acc: 0.5384973404255319\n",
      "\n",
      "Epoch 2\n",
      " train loss: 1.1986897289208127, train acc: 0.5818588404283103\n",
      " val loss: 1.1947514759733322, val acc: 0.5866578014184396\n",
      "\n",
      "Epoch 3\n",
      " train loss: 1.0779325695098863, train acc: 0.6268975254635676\n",
      " val loss: 1.1056772579538061, val acc: 0.6162234042553192\n",
      "\n",
      "Epoch 4\n",
      " train loss: 1.0288667657039718, train acc: 0.6427714481587882\n",
      " val loss: 1.0139901886595057, val acc: 0.6445478723404255\n",
      "\n",
      "Epoch 5\n",
      " train loss: 0.9820908975993475, train acc: 0.6594329459388875\n",
      " val loss: 1.0187477842290351, val acc: 0.6434840425531915\n",
      "\n",
      "Epoch 6\n",
      " train loss: 0.9550460614059699, train acc: 0.6711404740141029\n",
      " val loss: 1.0663927156874473, val acc: 0.6414450354609929\n",
      "\n",
      "Epoch 7\n",
      " train loss: 0.923748940501832, train acc: 0.6808729433272395\n",
      " val loss: 0.9640476290215837, val acc: 0.6667774822695035\n",
      "\n",
      "Epoch 8\n",
      " train loss: 0.907317875617165, train acc: 0.6871327370070514\n",
      " val loss: 0.9679052880469788, val acc: 0.6632535460992907\n",
      "\n",
      "Epoch 9\n",
      " train loss: 0.8883712442636054, train acc: 0.6914868438234526\n",
      " val loss: 0.9502121172052749, val acc: 0.6686170212765957\n",
      "\n",
      "Epoch 10\n",
      " train loss: 0.8724725393534143, train acc: 0.6998604400626796\n",
      " val loss: 0.97159539055317, val acc: 0.6700132978723404\n",
      "\n",
      "Epoch 11\n",
      " train loss: 0.7694450489345809, train acc: 0.7363378166623139\n",
      " val loss: 0.840530530188946, val acc: 0.7103501773049646\n",
      "\n",
      "Epoch 12\n",
      " train loss: 0.7519947361248721, train acc: 0.7404960498824759\n",
      " val loss: 0.8390127595434798, val acc: 0.7104166666666667\n",
      "\n",
      "Epoch 13\n",
      " train loss: 0.7442519056186816, train acc: 0.7468252154609559\n",
      " val loss: 0.834832865633863, val acc: 0.712389184397163\n",
      "\n",
      "Epoch 14\n",
      " train loss: 0.7420391649607113, train acc: 0.7458417667798382\n",
      " val loss: 0.8426827489061558, val acc: 0.7110372340425531\n",
      "\n",
      "Epoch 15\n",
      " train loss: 0.7384224646814999, train acc: 0.7479637307390964\n",
      " val loss: 0.8382472470719764, val acc: 0.7107712765957447\n",
      "\n",
      "Epoch 16\n",
      " train loss: 0.7241392277821327, train acc: 0.7539378754243928\n",
      " val loss: 0.8283773919369312, val acc: 0.7154476950354609\n",
      "\n",
      "Epoch 17\n",
      " train loss: 0.7218549393757606, train acc: 0.7540235701227476\n",
      " val loss: 0.8273578397771145, val acc: 0.7147163120567375\n",
      "\n",
      "Epoch 18\n",
      " train loss: 0.7213295056898371, train acc: 0.7530727670410028\n",
      " val loss: 0.828391728883094, val acc: 0.7160239361702128\n",
      "\n",
      "Epoch 19\n",
      " train loss: 0.7179405125338155, train acc: 0.7548233873073911\n",
      " val loss: 0.8255387450786347, val acc: 0.7164007092198582\n",
      "\n",
      "Epoch 20\n",
      " train loss: 0.7188764244481458, train acc: 0.7543500261164795\n",
      " val loss: 0.8236795034814388, val acc: 0.7187056737588652\n",
      "\n"
     ]
    }
   ],
   "execution_count": 76
  },
  {
   "metadata": {
    "ExecuteTime": {
     "end_time": "2024-05-26T10:50:00.216648Z",
     "start_time": "2024-05-26T10:49:53.783198Z"
    }
   },
   "cell_type": "code",
   "source": [
    "test_loss, test_acc = test(net, test_loader)\n",
    "print(f\"Точность на тесте: {test_acc}\")"
   ],
   "outputs": [
    {
     "name": "stdout",
     "output_type": "stream",
     "text": [
      "Точность на тесте: 0.7182523885350318\n"
     ]
    }
   ],
   "execution_count": 77
  },
  {
   "metadata": {},
   "cell_type": "markdown",
   "source": "**4 в 1**"
  },
  {
   "metadata": {
    "ExecuteTime": {
     "end_time": "2024-05-26T11:42:48.563932Z",
     "start_time": "2024-05-26T11:33:00.056115Z"
    }
   },
   "cell_type": "code",
   "source": [
    "transform_combined = transforms.Compose(\n",
    "    [transforms.RandomRotation(30),\n",
    "     transforms.ColorJitter(brightness=0.2, contrast=0.2, saturation=0.2, hue=0.2),\n",
    "     transforms.RandomGrayscale(p=0.1),\n",
    "     transforms.RandomVerticalFlip(),\n",
    "     transforms.ToTensor(),\n",
    "     transforms.Normalize((0.5, 0.5, 0.5), (0.5, 0.5, 0.5))]\n",
    ")\n",
    "\n",
    "train_loader, val_loader, test_loader = get_cifar10_data(batch_size=64, transform_train=transform_combined)\n",
    "\n",
    "net = BasicBlockNet().to(device)\n",
    "optimizer = optim.SGD(net.parameters(), lr=0.1, momentum=0.9)\n",
    "scheduler = optim.lr_scheduler.MultiStepLR(optimizer, milestones=[10, 15], gamma=0.1)\n",
    "tr_loss_log, tr_acc_log, val_loss_log, val_acc_log = train(net, optimizer, 20, train_loader, val_loader, scheduler)"
   ],
   "outputs": [
    {
     "name": "stdout",
     "output_type": "stream",
     "text": [
      "Files already downloaded and verified\n",
      "Files already downloaded and verified\n",
      "Epoch 1\n",
      " train loss: 1.8812817411405296, train acc: 0.3196453055628101\n",
      " val loss: 1.7211373557435705, val acc: 0.3747340425531915\n",
      "\n",
      "Epoch 2\n",
      " train loss: 1.708061797745267, train acc: 0.3852915252024027\n",
      " val loss: 1.6592889664020944, val acc: 0.39510195035461\n",
      "\n",
      "Epoch 3\n",
      " train loss: 1.6239723246101923, train acc: 0.41471337163750327\n",
      " val loss: 1.6305741908702445, val acc: 0.3962987588652483\n",
      "\n",
      "Epoch 4\n",
      " train loss: 1.5710667652883303, train acc: 0.43907923086967876\n",
      " val loss: 1.5341376243753637, val acc: 0.4495124113475177\n",
      "\n",
      "Epoch 5\n",
      " train loss: 1.532437085669481, train acc: 0.45257818621049883\n",
      " val loss: 1.5130750158999828, val acc: 0.4542109929078015\n",
      "\n",
      "Epoch 6\n",
      " train loss: 1.4915460282749406, train acc: 0.4696273504831549\n",
      " val loss: 1.6288436712102687, val acc: 0.44556737588652484\n",
      "\n",
      "Epoch 7\n",
      " train loss: 1.4705078536457292, train acc: 0.47493634108122224\n",
      " val loss: 1.466758033569823, val acc: 0.484197695035461\n",
      "\n",
      "Epoch 8\n",
      " train loss: 1.4485238777436111, train acc: 0.48563593627578994\n",
      " val loss: 1.4479351287192486, val acc: 0.48761081560283687\n",
      "\n",
      "Epoch 9\n",
      " train loss: 1.425604760101988, train acc: 0.4924751893444763\n",
      " val loss: 1.4117114097514052, val acc: 0.49501329787234044\n",
      "\n",
      "Epoch 10\n",
      " train loss: 1.4211034750807656, train acc: 0.49627024027161143\n",
      " val loss: 1.4261530343522417, val acc: 0.4968971631205674\n",
      "\n",
      "Epoch 11\n",
      " train loss: 1.3305358736345057, train acc: 0.5283527030556281\n",
      " val loss: 1.3226759915656232, val acc: 0.5263297872340426\n",
      "\n",
      "Epoch 12\n",
      " train loss: 1.3173975101118767, train acc: 0.5352164403238444\n",
      " val loss: 1.3097245556242922, val acc: 0.5380540780141844\n",
      "\n",
      "Epoch 13\n",
      " train loss: 1.3044654699740506, train acc: 0.5406437712196397\n",
      " val loss: 1.310110494431029, val acc: 0.5403812056737588\n",
      "\n",
      "Epoch 14\n",
      " train loss: 1.3002366579428888, train acc: 0.539774582136328\n",
      " val loss: 1.3051226519523782, val acc: 0.5393617021276595\n",
      "\n",
      "Epoch 15\n",
      " train loss: 1.3021366619104877, train acc: 0.5416639462000522\n",
      " val loss: 1.296502174215114, val acc: 0.5496453900709221\n",
      "\n",
      "Epoch 16\n",
      " train loss: 1.2890569220077404, train acc: 0.5461404740141029\n",
      " val loss: 1.2855115657157086, val acc: 0.5462987588652481\n",
      "\n",
      "Epoch 17\n",
      " train loss: 1.285684072448305, train acc: 0.5464179616087751\n",
      " val loss: 1.2817171943948624, val acc: 0.5444370567375887\n",
      "\n",
      "Epoch 18\n",
      " train loss: 1.2814822304837228, train acc: 0.5475442347871508\n",
      " val loss: 1.2756971217216329, val acc: 0.5496675531914894\n",
      "\n",
      "Epoch 19\n",
      " train loss: 1.28211512785725, train acc: 0.5483399712718725\n",
      " val loss: 1.2853454232215882, val acc: 0.5450576241134752\n",
      "\n",
      "Epoch 20\n",
      " train loss: 1.2864001160129988, train acc: 0.5490214481587882\n",
      " val loss: 1.2795809352651555, val acc: 0.546232269503546\n",
      "\n"
     ]
    }
   ],
   "execution_count": 87
  },
  {
   "metadata": {
    "ExecuteTime": {
     "end_time": "2024-05-26T11:42:55.245417Z",
     "start_time": "2024-05-26T11:42:48.565177Z"
    }
   },
   "cell_type": "code",
   "source": [
    "test_loss, test_acc = test(net, test_loader)\n",
    "print(f\"Точность на тесте: {test_acc}\")"
   ],
   "outputs": [
    {
     "name": "stdout",
     "output_type": "stream",
     "text": [
      "Точность на тесте: 0.6046974522292994\n"
     ]
    }
   ],
   "execution_count": 88
  },
  {
   "metadata": {},
   "cell_type": "markdown",
   "source": "Наилучшее качество на тестовой выборке получилось с GrayScale - 71.8. Наихудшее качество получилось у комбинации 4 аугментация изображения - 60.5%."
  },
  {
   "cell_type": "markdown",
   "metadata": {
    "id": "HCENjLw5O9Dv"
   },
   "source": [
    "## Бонус. Логирование в wandb (2 балла)"
   ]
  },
  {
   "cell_type": "markdown",
   "metadata": {
    "id": "xOyzc1mnO9Dv"
   },
   "source": [
    "На практике специалиста по глубинному обучению часто встречаются ситуации, когда нейросеть учится на каком-то удаленном сервере. И обычно вам хочется отслеживать прогресс обучения, особенно когда время обучения модели исчисляется днями или неделями. Для таких целей существует несколько инструментов. Вероятно, самый популярный из них — [wandb](https://wandb.ai/site).\n",
    "\n",
    "Ваша задача состоит в том, чтобы разобраться как им пользоваться, и повторить задания 2.1 и 2.2 с его использованием. Обучение вы можете запускать в этом же ноутбуке, но теперь вам необходимо через wandb логировать значения функции потерь и точности на обучающей выборке и на валидационной. Результатом работы должны быть ваш код и публичная ссылка на страничку с графиками, идентичными графикам в задании 2.2."
   ]
  },
  {
   "metadata": {},
   "cell_type": "markdown",
   "source": "[Wandb graphs](https://wandb.ai/ppc_hse/ppc_hse/runs/v409f9ir?nw=nwuserpashvasilenko)"
  },
  {
   "cell_type": "code",
   "metadata": {
    "id": "m5gSTLAr_QS4",
    "ExecuteTime": {
     "end_time": "2024-05-26T16:48:10.330686Z",
     "start_time": "2024-05-26T16:48:06.522644Z"
    }
   },
   "source": [
    "import wandb\n",
    "\n",
    "wandb.init(project=\"ppc_hse\", \n",
    "           \n",
    "           config={\n",
    "           \"learning_rate\": 0.1,\n",
    "           \"batch_size\": 64,\n",
    "           \"epochs\": 20,\n",
    "           }\n",
    ")"
   ],
   "outputs": [
    {
     "name": "stderr",
     "output_type": "stream",
     "text": [
      "wandb: Currently logged in as: pashvasilenko (ppc_hse). Use `wandb login --relogin` to force relogin\n"
     ]
    },
    {
     "data": {
      "text/plain": [
       "<IPython.core.display.HTML object>"
      ],
      "text/html": [
       "Tracking run with wandb version 0.17.0"
      ]
     },
     "metadata": {},
     "output_type": "display_data"
    },
    {
     "data": {
      "text/plain": [
       "<IPython.core.display.HTML object>"
      ],
      "text/html": [
       "Run data is saved locally in <code>H:\\Git\\PyProjects\\DL_HW1\\wandb\\run-20240526_194809-v409f9ir</code>"
      ]
     },
     "metadata": {},
     "output_type": "display_data"
    },
    {
     "data": {
      "text/plain": [
       "<IPython.core.display.HTML object>"
      ],
      "text/html": [
       "Syncing run <strong><a href='https://wandb.ai/ppc_hse/ppc_hse/runs/v409f9ir' target=\"_blank\">tough-oath-12</a></strong> to <a href='https://wandb.ai/ppc_hse/ppc_hse' target=\"_blank\">Weights & Biases</a> (<a href='https://wandb.me/run' target=\"_blank\">docs</a>)<br/>"
      ]
     },
     "metadata": {},
     "output_type": "display_data"
    },
    {
     "data": {
      "text/plain": [
       "<IPython.core.display.HTML object>"
      ],
      "text/html": [
       " View project at <a href='https://wandb.ai/ppc_hse/ppc_hse' target=\"_blank\">https://wandb.ai/ppc_hse/ppc_hse</a>"
      ]
     },
     "metadata": {},
     "output_type": "display_data"
    },
    {
     "data": {
      "text/plain": [
       "<IPython.core.display.HTML object>"
      ],
      "text/html": [
       " View run at <a href='https://wandb.ai/ppc_hse/ppc_hse/runs/v409f9ir' target=\"_blank\">https://wandb.ai/ppc_hse/ppc_hse/runs/v409f9ir</a>"
      ]
     },
     "metadata": {},
     "output_type": "display_data"
    },
    {
     "data": {
      "text/html": [
       "<button onClick=\"this.nextSibling.style.display='block';this.style.display='none';\">Display W&B run</button><iframe src='https://wandb.ai/ppc_hse/ppc_hse/runs/v409f9ir?jupyter=true' style='border:none;width:100%;height:420px;display:none;'></iframe>"
      ],
      "text/plain": [
       "<wandb.sdk.wandb_run.Run at 0x14f13d78dd0>"
      ]
     },
     "execution_count": 13,
     "metadata": {},
     "output_type": "execute_result"
    }
   ],
   "execution_count": 13
  },
  {
   "metadata": {
    "ExecuteTime": {
     "end_time": "2024-05-26T16:48:10.337682Z",
     "start_time": "2024-05-26T16:48:10.331681Z"
    }
   },
   "cell_type": "code",
   "source": [
    "def train(model, optimizer, n_epochs, train_loader, val_loader, scheduler=None):\n",
    "    train_loss_log, train_acc_log, val_loss_log, val_acc_log = [], [], [], []\n",
    "\n",
    "    for epoch in range(n_epochs):\n",
    "        train_loss, train_acc = train_epoch(model, optimizer, train_loader)\n",
    "        val_loss, val_acc = test(model, val_loader)\n",
    "        \n",
    "        train_loss_log.extend(train_loss)\n",
    "        train_acc_log.extend(train_acc)\n",
    "        \n",
    "        val_loss_log.append(val_loss)\n",
    "        val_acc_log.append(val_acc)\n",
    "\n",
    "        # Логирование метрик в wandb\n",
    "        wandb.log({\n",
    "            \"epoch\": epoch + 1,\n",
    "            \"train_loss\": np.mean(train_loss),\n",
    "            \"train_accuracy\": np.mean(train_acc),\n",
    "            \"val_loss\": val_loss,\n",
    "            \"val_accuracy\": val_acc\n",
    "        })\n",
    "\n",
    "        print(f\"Epoch {epoch + 1}\")\n",
    "        print(f\" train loss: {np.mean(train_loss)}, train acc: {np.mean(train_acc)}\")\n",
    "        print(f\" val loss: {val_loss}, val acc: {val_acc}\\n\")\n",
    "        \n",
    "        if scheduler is not None:\n",
    "            scheduler.step()\n",
    "\n",
    "    return train_loss_log, train_acc_log, val_loss_log, val_acc_log"
   ],
   "outputs": [],
   "execution_count": 14
  },
  {
   "metadata": {
    "ExecuteTime": {
     "end_time": "2024-05-26T16:48:10.927462Z",
     "start_time": "2024-05-26T16:48:10.921297Z"
    }
   },
   "cell_type": "code",
   "source": [
    "def train(model, optimizer, n_epochs, train_loader, val_loader, scheduler=None):\n",
    "    for epoch in range(n_epochs):\n",
    "        model.train()\n",
    "        train_loss_log, train_acc_log = [], []\n",
    "        \n",
    "        for batch_idx, (data, target) in enumerate(train_loader):\n",
    "            data, target = data.to(device), target.to(device)\n",
    "            optimizer.zero_grad()\n",
    "            output = model(data)\n",
    "            loss = torch.nn.functional.cross_entropy(output, target)\n",
    "            loss.backward()\n",
    "            optimizer.step()\n",
    "            \n",
    "            # Логирование метрик для обучающей выборки\n",
    "            train_loss_log.append(loss.item())\n",
    "            pred = output.argmax(dim=1, keepdim=True)\n",
    "            correct = pred.eq(target.view_as(pred)).sum().item()\n",
    "            accuracy = correct / len(target)\n",
    "            train_acc_log.append(accuracy)\n",
    "            \n",
    "            wandb.log({\n",
    "                'Train Loss': loss.item(),\n",
    "                'Train Accuracy': accuracy\n",
    "            }, step=epoch * len(train_loader) + batch_idx)\n",
    "        \n",
    "        # Оценка на валидационной выборке\n",
    "        val_loss, val_acc = test(model, val_loader)\n",
    "        \n",
    "        wandb.log({\n",
    "            'Validation Loss': val_loss,\n",
    "            'Validation Accuracy': val_acc\n",
    "        }, step=(epoch + 1) * len(train_loader))\n",
    "        \n",
    "        print(f\"Epoch {epoch + 1}:\")\n",
    "        print(f\" Train Loss: {torch.tensor(train_loss_log).mean().item()}, Train Accuracy: {torch.tensor(train_acc_log).mean().item()}\")\n",
    "        print(f\" Validation Loss: {val_loss}, Validation Accuracy: {val_acc}\\n\")\n",
    "        \n",
    "        if scheduler is not None:\n",
    "            scheduler.step()"
   ],
   "outputs": [],
   "execution_count": 15
  },
  {
   "metadata": {
    "ExecuteTime": {
     "end_time": "2024-05-26T16:48:12.901344Z",
     "start_time": "2024-05-26T16:48:11.135251Z"
    }
   },
   "cell_type": "code",
   "source": "train_loader, val_loader, test_loader = get_cifar10_data(batch_size=wandb.config.batch_size, transform_train=transform)",
   "outputs": [
    {
     "name": "stdout",
     "output_type": "stream",
     "text": [
      "Files already downloaded and verified\n",
      "Files already downloaded and verified\n"
     ]
    }
   ],
   "execution_count": 16
  },
  {
   "metadata": {
    "ExecuteTime": {
     "end_time": "2024-05-26T16:54:50.537416Z",
     "start_time": "2024-05-26T16:48:13.545139Z"
    }
   },
   "cell_type": "code",
   "source": [
    "net = BasicBlockNet().to(device)\n",
    "optimizer = optim.SGD(net.parameters(), lr=0.1, momentum=0.9)\n",
    "train(net, optimizer, 20, train_loader, val_loader)"
   ],
   "outputs": [
    {
     "name": "stdout",
     "output_type": "stream",
     "text": [
      "Epoch 1:\n",
      " Train Loss: 1.4785332679748535, Train Accuracy: 0.47387540340423584\n",
      " Validation Loss: 1.2624969086748488, Validation Accuracy: 0.5548537234042553\n",
      "\n",
      "Epoch 2:\n",
      " Train Loss: 1.1632622480392456, Train Accuracy: 0.5928196310997009\n",
      " Validation Loss: 1.1044791477791807, Validation Accuracy: 0.6133200354609928\n",
      "\n",
      "Epoch 3:\n",
      " Train Loss: 1.050211787223816, Train Accuracy: 0.6360015869140625\n",
      " Validation Loss: 1.1187049284894415, Validation Accuracy: 0.6021719858156029\n",
      "\n",
      "Epoch 4:\n",
      " Train Loss: 1.0015828609466553, Train Accuracy: 0.6515898704528809\n",
      " Validation Loss: 1.0053984710510742, Validation Accuracy: 0.6513076241134752\n",
      "\n",
      "Epoch 5:\n",
      " Train Loss: 0.9599088430404663, Train Accuracy: 0.667777955532074\n",
      " Validation Loss: 0.9681027447923701, Validation Accuracy: 0.6617021276595745\n",
      "\n",
      "Epoch 6:\n",
      " Train Loss: 0.9273523688316345, Train Accuracy: 0.6761148571968079\n",
      " Validation Loss: 0.994341194883306, Validation Accuracy: 0.6587765957446808\n",
      "\n",
      "Epoch 7:\n",
      " Train Loss: 0.9047116637229919, Train Accuracy: 0.6867940425872803\n",
      " Validation Loss: 0.9559625493719223, Validation Accuracy: 0.6700797872340426\n",
      "\n",
      "Epoch 8:\n",
      " Train Loss: 0.8841474652290344, Train Accuracy: 0.6926457285881042\n",
      " Validation Loss: 0.9706585054701947, Validation Accuracy: 0.6671985815602838\n",
      "\n",
      "Epoch 9:\n",
      " Train Loss: 0.8653336763381958, Train Accuracy: 0.702010989189148\n",
      " Validation Loss: 0.9331988928165842, Validation Accuracy: 0.6732712765957447\n",
      "\n",
      "Epoch 10:\n",
      " Train Loss: 0.8555746674537659, Train Accuracy: 0.7047123312950134\n",
      " Validation Loss: 0.9456374731469661, Validation Accuracy: 0.6835328014184396\n",
      "\n",
      "Epoch 11:\n",
      " Train Loss: 0.8407610654830933, Train Accuracy: 0.7094051837921143\n",
      " Validation Loss: 0.9060452593133804, Validation Accuracy: 0.6905141843971631\n",
      "\n",
      "Epoch 12:\n",
      " Train Loss: 0.8313063383102417, Train Accuracy: 0.7128656506538391\n",
      " Validation Loss: 0.9117817262385753, Validation Accuracy: 0.6857491134751774\n",
      "\n",
      "Epoch 13:\n",
      " Train Loss: 0.822333574295044, Train Accuracy: 0.7120290994644165\n",
      " Validation Loss: 0.8777499049267871, Validation Accuracy: 0.6981382978723404\n",
      "\n",
      "Epoch 14:\n",
      " Train Loss: 0.8099105358123779, Train Accuracy: 0.7190682888031006\n",
      " Validation Loss: 0.9678356619591408, Validation Accuracy: 0.6660904255319149\n",
      "\n",
      "Epoch 15:\n",
      " Train Loss: 0.8040006160736084, Train Accuracy: 0.7227327823638916\n",
      " Validation Loss: 0.8951899249502953, Validation Accuracy: 0.6906693262411349\n",
      "\n",
      "Epoch 16:\n",
      " Train Loss: 0.79249107837677, Train Accuracy: 0.7232183814048767\n",
      " Validation Loss: 0.9064495697934577, Validation Accuracy: 0.6838209219858157\n",
      "\n",
      "Epoch 17:\n",
      " Train Loss: 0.7891265153884888, Train Accuracy: 0.7263563871383667\n",
      " Validation Loss: 0.8610292371283186, Validation Accuracy: 0.7023492907801417\n",
      "\n",
      "Epoch 18:\n",
      " Train Loss: 0.7841615676879883, Train Accuracy: 0.7276540994644165\n",
      " Validation Loss: 0.9378349342244736, Validation Accuracy: 0.6842420212765957\n",
      "\n",
      "Epoch 19:\n",
      " Train Loss: 0.7724391222000122, Train Accuracy: 0.730633020401001\n",
      " Validation Loss: 0.8713735433335, Validation Accuracy: 0.7001773049645391\n",
      "\n",
      "Epoch 20:\n",
      " Train Loss: 0.7644400596618652, Train Accuracy: 0.7364235520362854\n",
      " Validation Loss: 0.866925818488953, Validation Accuracy: 0.7083111702127659\n",
      "\n"
     ]
    }
   ],
   "execution_count": 17
  },
  {
   "metadata": {
    "ExecuteTime": {
     "end_time": "2024-05-26T16:54:57.501832Z",
     "start_time": "2024-05-26T16:54:50.538399Z"
    }
   },
   "cell_type": "code",
   "source": [
    "test_loss, test_acc = test(net, test_loader)\n",
    "print(f\"Точность на тесте: {test_acc}\")"
   ],
   "outputs": [
    {
     "name": "stdout",
     "output_type": "stream",
     "text": [
      "Точность на тесте: 0.7025278662420382\n"
     ]
    }
   ],
   "execution_count": 18
  },
  {
   "metadata": {
    "ExecuteTime": {
     "end_time": "2024-05-26T16:54:57.505835Z",
     "start_time": "2024-05-26T16:54:57.501832Z"
    }
   },
   "cell_type": "code",
   "source": "wandb.log({\"test_loss\": test_loss, \"test_accuracy\": test_acc})",
   "outputs": [],
   "execution_count": 19
  },
  {
   "metadata": {},
   "cell_type": "code",
   "outputs": [],
   "execution_count": null,
   "source": ""
  }
 ],
 "metadata": {
  "accelerator": "GPU",
  "colab": {
   "collapsed_sections": [],
   "provenance": []
  },
  "kernelspec": {
   "display_name": "Python 3 (ipykernel)",
   "language": "python",
   "name": "python3"
  },
  "language_info": {
   "codemirror_mode": {
    "name": "ipython",
    "version": 3
   },
   "file_extension": ".py",
   "mimetype": "text/x-python",
   "name": "python",
   "nbconvert_exporter": "python",
   "pygments_lexer": "ipython3",
   "version": "3.10.4"
  },
  "widgets": {
   "application/vnd.jupyter.widget-state+json": {
    "0fee9f5b7bdb4129a71ef0cfe9d3b1fa": {
     "model_module": "@jupyter-widgets/controls",
     "model_module_version": "1.5.0",
     "model_name": "ProgressStyleModel",
     "state": {
      "_model_module": "@jupyter-widgets/controls",
      "_model_module_version": "1.5.0",
      "_model_name": "ProgressStyleModel",
      "_view_count": null,
      "_view_module": "@jupyter-widgets/base",
      "_view_module_version": "1.2.0",
      "_view_name": "StyleView",
      "bar_color": null,
      "description_width": ""
     }
    },
    "17b2be81159e41f1a5c6bb966516572e": {
     "model_module": "@jupyter-widgets/base",
     "model_module_version": "1.2.0",
     "model_name": "LayoutModel",
     "state": {
      "_model_module": "@jupyter-widgets/base",
      "_model_module_version": "1.2.0",
      "_model_name": "LayoutModel",
      "_view_count": null,
      "_view_module": "@jupyter-widgets/base",
      "_view_module_version": "1.2.0",
      "_view_name": "LayoutView",
      "align_content": null,
      "align_items": null,
      "align_self": null,
      "border": null,
      "bottom": null,
      "display": null,
      "flex": null,
      "flex_flow": null,
      "grid_area": null,
      "grid_auto_columns": null,
      "grid_auto_flow": null,
      "grid_auto_rows": null,
      "grid_column": null,
      "grid_gap": null,
      "grid_row": null,
      "grid_template_areas": null,
      "grid_template_columns": null,
      "grid_template_rows": null,
      "height": null,
      "justify_content": null,
      "justify_items": null,
      "left": null,
      "margin": null,
      "max_height": null,
      "max_width": null,
      "min_height": null,
      "min_width": null,
      "object_fit": null,
      "object_position": null,
      "order": null,
      "overflow": null,
      "overflow_x": null,
      "overflow_y": null,
      "padding": null,
      "right": null,
      "top": null,
      "visibility": null,
      "width": null
     }
    },
    "18b20091dbf64b129824a8fb3266e3c0": {
     "model_module": "@jupyter-widgets/controls",
     "model_module_version": "1.5.0",
     "model_name": "DescriptionStyleModel",
     "state": {
      "_model_module": "@jupyter-widgets/controls",
      "_model_module_version": "1.5.0",
      "_model_name": "DescriptionStyleModel",
      "_view_count": null,
      "_view_module": "@jupyter-widgets/base",
      "_view_module_version": "1.2.0",
      "_view_name": "StyleView",
      "description_width": ""
     }
    },
    "22bb21a6c57a413fb7374efe31349e6e": {
     "model_module": "@jupyter-widgets/base",
     "model_module_version": "1.2.0",
     "model_name": "LayoutModel",
     "state": {
      "_model_module": "@jupyter-widgets/base",
      "_model_module_version": "1.2.0",
      "_model_name": "LayoutModel",
      "_view_count": null,
      "_view_module": "@jupyter-widgets/base",
      "_view_module_version": "1.2.0",
      "_view_name": "LayoutView",
      "align_content": null,
      "align_items": null,
      "align_self": null,
      "border": null,
      "bottom": null,
      "display": null,
      "flex": null,
      "flex_flow": null,
      "grid_area": null,
      "grid_auto_columns": null,
      "grid_auto_flow": null,
      "grid_auto_rows": null,
      "grid_column": null,
      "grid_gap": null,
      "grid_row": null,
      "grid_template_areas": null,
      "grid_template_columns": null,
      "grid_template_rows": null,
      "height": null,
      "justify_content": null,
      "justify_items": null,
      "left": null,
      "margin": null,
      "max_height": null,
      "max_width": null,
      "min_height": null,
      "min_width": null,
      "object_fit": null,
      "object_position": null,
      "order": null,
      "overflow": null,
      "overflow_x": null,
      "overflow_y": null,
      "padding": null,
      "right": null,
      "top": null,
      "visibility": null,
      "width": null
     }
    },
    "7d238166caf64537ad9aa2040dcdc1ec": {
     "model_module": "@jupyter-widgets/controls",
     "model_module_version": "1.5.0",
     "model_name": "DescriptionStyleModel",
     "state": {
      "_model_module": "@jupyter-widgets/controls",
      "_model_module_version": "1.5.0",
      "_model_name": "DescriptionStyleModel",
      "_view_count": null,
      "_view_module": "@jupyter-widgets/base",
      "_view_module_version": "1.2.0",
      "_view_name": "StyleView",
      "description_width": ""
     }
    },
    "95c5696493db48738dbdc9940acec1d8": {
     "model_module": "@jupyter-widgets/controls",
     "model_module_version": "1.5.0",
     "model_name": "HTMLModel",
     "state": {
      "_dom_classes": [],
      "_model_module": "@jupyter-widgets/controls",
      "_model_module_version": "1.5.0",
      "_model_name": "HTMLModel",
      "_view_count": null,
      "_view_module": "@jupyter-widgets/controls",
      "_view_module_version": "1.5.0",
      "_view_name": "HTMLView",
      "description": "",
      "description_tooltip": null,
      "layout": "IPY_MODEL_22bb21a6c57a413fb7374efe31349e6e",
      "placeholder": "​",
      "style": "IPY_MODEL_18b20091dbf64b129824a8fb3266e3c0",
      "value": "100%"
     }
    },
    "9bad0d6a00c14229b0d776a2cfe15090": {
     "model_module": "@jupyter-widgets/base",
     "model_module_version": "1.2.0",
     "model_name": "LayoutModel",
     "state": {
      "_model_module": "@jupyter-widgets/base",
      "_model_module_version": "1.2.0",
      "_model_name": "LayoutModel",
      "_view_count": null,
      "_view_module": "@jupyter-widgets/base",
      "_view_module_version": "1.2.0",
      "_view_name": "LayoutView",
      "align_content": null,
      "align_items": null,
      "align_self": null,
      "border": null,
      "bottom": null,
      "display": null,
      "flex": null,
      "flex_flow": null,
      "grid_area": null,
      "grid_auto_columns": null,
      "grid_auto_flow": null,
      "grid_auto_rows": null,
      "grid_column": null,
      "grid_gap": null,
      "grid_row": null,
      "grid_template_areas": null,
      "grid_template_columns": null,
      "grid_template_rows": null,
      "height": null,
      "justify_content": null,
      "justify_items": null,
      "left": null,
      "margin": null,
      "max_height": null,
      "max_width": null,
      "min_height": null,
      "min_width": null,
      "object_fit": null,
      "object_position": null,
      "order": null,
      "overflow": null,
      "overflow_x": null,
      "overflow_y": null,
      "padding": null,
      "right": null,
      "top": null,
      "visibility": null,
      "width": null
     }
    },
    "aa9da821ba0c42b5b051355e50e691f0": {
     "model_module": "@jupyter-widgets/controls",
     "model_module_version": "1.5.0",
     "model_name": "HBoxModel",
     "state": {
      "_dom_classes": [],
      "_model_module": "@jupyter-widgets/controls",
      "_model_module_version": "1.5.0",
      "_model_name": "HBoxModel",
      "_view_count": null,
      "_view_module": "@jupyter-widgets/controls",
      "_view_module_version": "1.5.0",
      "_view_name": "HBoxView",
      "box_style": "",
      "children": [
       "IPY_MODEL_95c5696493db48738dbdc9940acec1d8",
       "IPY_MODEL_fe515a1f743f49d0b251b43919d52a8e",
       "IPY_MODEL_f4f339c969fd4e21bc683ecb2567897b"
      ],
      "layout": "IPY_MODEL_17b2be81159e41f1a5c6bb966516572e"
     }
    },
    "cd991379661b4b4ab405bf66f75c6834": {
     "model_module": "@jupyter-widgets/base",
     "model_module_version": "1.2.0",
     "model_name": "LayoutModel",
     "state": {
      "_model_module": "@jupyter-widgets/base",
      "_model_module_version": "1.2.0",
      "_model_name": "LayoutModel",
      "_view_count": null,
      "_view_module": "@jupyter-widgets/base",
      "_view_module_version": "1.2.0",
      "_view_name": "LayoutView",
      "align_content": null,
      "align_items": null,
      "align_self": null,
      "border": null,
      "bottom": null,
      "display": null,
      "flex": null,
      "flex_flow": null,
      "grid_area": null,
      "grid_auto_columns": null,
      "grid_auto_flow": null,
      "grid_auto_rows": null,
      "grid_column": null,
      "grid_gap": null,
      "grid_row": null,
      "grid_template_areas": null,
      "grid_template_columns": null,
      "grid_template_rows": null,
      "height": null,
      "justify_content": null,
      "justify_items": null,
      "left": null,
      "margin": null,
      "max_height": null,
      "max_width": null,
      "min_height": null,
      "min_width": null,
      "object_fit": null,
      "object_position": null,
      "order": null,
      "overflow": null,
      "overflow_x": null,
      "overflow_y": null,
      "padding": null,
      "right": null,
      "top": null,
      "visibility": null,
      "width": null
     }
    },
    "f4f339c969fd4e21bc683ecb2567897b": {
     "model_module": "@jupyter-widgets/controls",
     "model_module_version": "1.5.0",
     "model_name": "HTMLModel",
     "state": {
      "_dom_classes": [],
      "_model_module": "@jupyter-widgets/controls",
      "_model_module_version": "1.5.0",
      "_model_name": "HTMLModel",
      "_view_count": null,
      "_view_module": "@jupyter-widgets/controls",
      "_view_module_version": "1.5.0",
      "_view_name": "HTMLView",
      "description": "",
      "description_tooltip": null,
      "layout": "IPY_MODEL_cd991379661b4b4ab405bf66f75c6834",
      "placeholder": "​",
      "style": "IPY_MODEL_7d238166caf64537ad9aa2040dcdc1ec",
      "value": " 170498071/170498071 [00:13&lt;00:00, 13339884.37it/s]"
     }
    },
    "fe515a1f743f49d0b251b43919d52a8e": {
     "model_module": "@jupyter-widgets/controls",
     "model_module_version": "1.5.0",
     "model_name": "FloatProgressModel",
     "state": {
      "_dom_classes": [],
      "_model_module": "@jupyter-widgets/controls",
      "_model_module_version": "1.5.0",
      "_model_name": "FloatProgressModel",
      "_view_count": null,
      "_view_module": "@jupyter-widgets/controls",
      "_view_module_version": "1.5.0",
      "_view_name": "ProgressView",
      "bar_style": "success",
      "description": "",
      "description_tooltip": null,
      "layout": "IPY_MODEL_9bad0d6a00c14229b0d776a2cfe15090",
      "max": 170498071,
      "min": 0,
      "orientation": "horizontal",
      "style": "IPY_MODEL_0fee9f5b7bdb4129a71ef0cfe9d3b1fa",
      "value": 170498071
     }
    }
   }
  }
 },
 "nbformat": 4,
 "nbformat_minor": 1
}
